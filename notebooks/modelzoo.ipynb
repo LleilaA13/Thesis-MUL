{
  "nbformat": 4,
  "nbformat_minor": 0,
  "metadata": {
    "colab": {
      "name": "modelzoo.ipynb",
      "provenance": [],
      "collapsed_sections": [
        "w2FiHpQhZ0H1"
      ],
      "include_colab_link": true
    },
    "kernelspec": {
      "name": "python3",
      "display_name": "Python 3"
    },
    "accelerator": "GPU"
  },
  "cells": [
    {
      "cell_type": "markdown",
      "metadata": {
        "id": "view-in-github",
        "colab_type": "text"
      },
      "source": [
        "<a href=\"https://colab.research.google.com/github/LleilaA13/Thesis-MUL/blob/main/notebooks/modelzoo.ipynb\" target=\"_parent\"><img src=\"https://colab.research.google.com/assets/colab-badge.svg\" alt=\"Open In Colab\"/></a>"
      ]
    },
    {
      "cell_type": "markdown",
      "metadata": {
        "id": "w2FiHpQhZ0H1"
      },
      "source": [
        "##### Licensed under the Apache License, Version 2.0 (the \"License\");"
      ]
    },
    {
      "cell_type": "code",
      "metadata": {
        "id": "4Ya65TXvZ6mJ"
      },
      "source": [
        "# Licensed under the Apache License, Version 2.0 (the \"License\");\n",
        "# you may not use this file except in compliance with the License.\n",
        "# You may obtain a copy of the License at\n",
        "#\n",
        "# https://www.apache.org/licenses/LICENSE-2.0\n",
        "#\n",
        "# Unless required by applicable law or agreed to in writing, software\n",
        "# distributed under the License is distributed on an \"AS IS\" BASIS,\n",
        "# WITHOUT WARRANTIES OR CONDITIONS OF ANY KIND, either express or implied.\n",
        "# See the License for the specific language governing permissions and\n",
        "# limitations under the License."
      ],
      "execution_count": 1,
      "outputs": []
    },
    {
      "cell_type": "markdown",
      "metadata": {
        "id": "0cY-1I93Z-07"
      },
      "source": [
        "# Lucent Modelzoo\n",
        "\n",
        "A demonstration of how Lucent works with different pretrained models and provides some samples of visualizations on other models."
      ]
    },
    {
      "cell_type": "markdown",
      "metadata": {
        "id": "GCPiaSOaaMV2"
      },
      "source": [
        "## Install, Import"
      ]
    },
    {
      "cell_type": "code",
      "metadata": {
        "id": "O_O-kTKQaNT3",
        "colab": {
          "base_uri": "https://localhost:8080/"
        },
        "outputId": "f89d145e-85b2-485a-f5e7-9f1ca58ab694"
      },
      "source": [
        "!pip install --quiet git+https://github.com/greentfrapp/lucent.git"
      ],
      "execution_count": 2,
      "outputs": [
        {
          "output_type": "stream",
          "name": "stdout",
          "text": [
            "  Preparing metadata (setup.py) ... \u001b[?25l\u001b[?25hdone\n",
            "  Preparing metadata (setup.py) ... \u001b[?25l\u001b[?25hdone\n",
            "\u001b[2K   \u001b[90m━━━━━━━━━━━━━━━━━━━━━━━━━━━━━━━━━━━━━━━━\u001b[0m \u001b[32m1.1/1.1 MB\u001b[0m \u001b[31m25.1 MB/s\u001b[0m eta \u001b[36m0:00:00\u001b[0m\n",
            "\u001b[2K   \u001b[90m━━━━━━━━━━━━━━━━━━━━━━━━━━━━━━━━━━━━━━━━\u001b[0m \u001b[32m363.4/363.4 MB\u001b[0m \u001b[31m3.7 MB/s\u001b[0m eta \u001b[36m0:00:00\u001b[0m\n",
            "\u001b[2K   \u001b[90m━━━━━━━━━━━━━━━━━━━━━━━━━━━━━━━━━━━━━━━━\u001b[0m \u001b[32m13.8/13.8 MB\u001b[0m \u001b[31m66.1 MB/s\u001b[0m eta \u001b[36m0:00:00\u001b[0m\n",
            "\u001b[2K   \u001b[90m━━━━━━━━━━━━━━━━━━━━━━━━━━━━━━━━━━━━━━━━\u001b[0m \u001b[32m24.6/24.6 MB\u001b[0m \u001b[31m35.8 MB/s\u001b[0m eta \u001b[36m0:00:00\u001b[0m\n",
            "\u001b[2K   \u001b[90m━━━━━━━━━━━━━━━━━━━━━━━━━━━━━━━━━━━━━━━━\u001b[0m \u001b[32m883.7/883.7 kB\u001b[0m \u001b[31m45.3 MB/s\u001b[0m eta \u001b[36m0:00:00\u001b[0m\n",
            "\u001b[2K   \u001b[90m━━━━━━━━━━━━━━━━━━━━━━━━━━━━━━━━━━━━━━━━\u001b[0m \u001b[32m664.8/664.8 MB\u001b[0m \u001b[31m3.0 MB/s\u001b[0m eta \u001b[36m0:00:00\u001b[0m\n",
            "\u001b[2K   \u001b[90m━━━━━━━━━━━━━━━━━━━━━━━━━━━━━━━━━━━━━━━━\u001b[0m \u001b[32m211.5/211.5 MB\u001b[0m \u001b[31m5.8 MB/s\u001b[0m eta \u001b[36m0:00:00\u001b[0m\n",
            "\u001b[2K   \u001b[90m━━━━━━━━━━━━━━━━━━━━━━━━━━━━━━━━━━━━━━━━\u001b[0m \u001b[32m56.3/56.3 MB\u001b[0m \u001b[31m9.5 MB/s\u001b[0m eta \u001b[36m0:00:00\u001b[0m\n",
            "\u001b[2K   \u001b[90m━━━━━━━━━━━━━━━━━━━━━━━━━━━━━━━━━━━━━━━━\u001b[0m \u001b[32m127.9/127.9 MB\u001b[0m \u001b[31m7.3 MB/s\u001b[0m eta \u001b[36m0:00:00\u001b[0m\n",
            "\u001b[2K   \u001b[90m━━━━━━━━━━━━━━━━━━━━━━━━━━━━━━━━━━━━━━━━\u001b[0m \u001b[32m207.5/207.5 MB\u001b[0m \u001b[31m5.6 MB/s\u001b[0m eta \u001b[36m0:00:00\u001b[0m\n",
            "\u001b[2K   \u001b[90m━━━━━━━━━━━━━━━━━━━━━━━━━━━━━━━━━━━━━━━━\u001b[0m \u001b[32m21.1/21.1 MB\u001b[0m \u001b[31m61.6 MB/s\u001b[0m eta \u001b[36m0:00:00\u001b[0m\n",
            "\u001b[2K   \u001b[90m━━━━━━━━━━━━━━━━━━━━━━━━━━━━━━━━━━━━━━━━\u001b[0m \u001b[32m243.3/243.3 kB\u001b[0m \u001b[31m16.8 MB/s\u001b[0m eta \u001b[36m0:00:00\u001b[0m\n",
            "\u001b[2K   \u001b[90m━━━━━━━━━━━━━━━━━━━━━━━━━━━━━━━━━━━━━━━━\u001b[0m \u001b[32m1.6/1.6 MB\u001b[0m \u001b[31m49.6 MB/s\u001b[0m eta \u001b[36m0:00:00\u001b[0m\n",
            "\u001b[2K   \u001b[90m━━━━━━━━━━━━━━━━━━━━━━━━━━━━━━━━━━━━━━━━\u001b[0m \u001b[32m2.1/2.1 MB\u001b[0m \u001b[31m56.9 MB/s\u001b[0m eta \u001b[36m0:00:00\u001b[0m\n",
            "\u001b[?25h  Building wheel for torch-lucent (setup.py) ... \u001b[?25l\u001b[?25hdone\n",
            "  Building wheel for docopt (setup.py) ... \u001b[?25l\u001b[?25hdone\n"
          ]
        }
      ]
    },
    {
      "cell_type": "code",
      "metadata": {
        "id": "pU-iV33WaO0R"
      },
      "source": [
        "import torch\n",
        "\n",
        "from lucent.optvis import render, param, transform, objectives\n",
        "from lucent.modelzoo.util import get_model_layers\n",
        "\n",
        "device = torch.device(\"cuda:0\" if torch.cuda.is_available() else \"cpu\")"
      ],
      "execution_count": 3,
      "outputs": []
    },
    {
      "cell_type": "markdown",
      "metadata": {
        "id": "3Fq66YiUaYBu"
      },
      "source": [
        "## InceptionV1\n",
        "\n",
        "In nearly all of the notebooks here, we will be using InceptionV1, which has been noted to have [\"unusually semantically meaningful\"](https://distill.pub/2018/building-blocks/) neurons.\n",
        "\n",
        "While `torchvision.model` contains a pretrained InceptionV1 (aka GoogLeNet) model, we primarily use the Tensorflow pretrained InceptionV1 model in the Lucent notebooks to demonstrate consistency with the Lucid library. See instructions [here](https://github.com/greentfrapp/lucent/tree/master/lucent/modelzoo) to download the model weights."
      ]
    },
    {
      "cell_type": "code",
      "metadata": {
        "id": "HLoVt4JfcbsX"
      },
      "source": [
        "from lucent.modelzoo import inceptionv1"
      ],
      "execution_count": 4,
      "outputs": []
    },
    {
      "cell_type": "markdown",
      "metadata": {
        "id": "LqykLx62dRiB"
      },
      "source": [
        "By default, `inceptionv1` has a `redirected_ReLU` argument that is set to `True`. This builds the model using a modified ReLU layer that allows gradient to flow even when the forward input is negative.\n",
        "\n",
        "This is because in some cases, especially for certain neurons such as `mixed4a:479`, the randomly initialized input falls into the dead zone of the ReLU function and there is no gradient signal to generate any meaningful visualization.\n",
        "\n",
        "See [this script](https://github.com/tensorflow/lucid/blob/master/lucid/misc/redirected_relu_grad.py) in Lucid for more details, although Lucent implements a different [workaround](https://github.com/greentfrapp/lucent/blob/46ed374d3784076d91459e45fdee0f24148d9218/lucent/modelzoo/inceptionv1/helper_layers.py#L61)."
      ]
    },
    {
      "cell_type": "code",
      "metadata": {
        "id": "h7WEz9QwbnD2",
        "colab": {
          "base_uri": "https://localhost:8080/"
        },
        "outputId": "0419f2aa-66e5-4b9f-d350-a2dc199be94e"
      },
      "source": [
        "# We have already downloaded the weights to inception5h.pth\n",
        "inceptionv1_model = inceptionv1(pretrained=True)\n",
        "_ = inceptionv1_model.to(device).eval()"
      ],
      "execution_count": 5,
      "outputs": [
        {
          "output_type": "stream",
          "name": "stderr",
          "text": [
            "Downloading: \"https://github.com/ProGamerGov/pytorch-old-tensorflow-models/raw/master/inception5h.pth\" to /root/.cache/torch/hub/checkpoints/inception5h.pth\n",
            "100%|██████████| 27.0M/27.0M [00:00<00:00, 263MB/s]\n"
          ]
        }
      ]
    },
    {
      "cell_type": "markdown",
      "metadata": {
        "id": "oiNSQP1Sb3Fi"
      },
      "source": [
        "Use `get_model_layers` to retrieve all the model layers.\n",
        "\n",
        "*Note that for InceptionV1, we added some auxiliary layers for convenience so there are more layers listed than in the actual model.*"
      ]
    },
    {
      "cell_type": "code",
      "metadata": {
        "id": "YzIlhfmrb2mb",
        "colab": {
          "base_uri": "https://localhost:8080/"
        },
        "outputId": "55693fd4-734c-4c3f-9614-70a81b5ae510"
      },
      "source": [
        "# Print the first 20 layer names\n",
        "get_model_layers(inceptionv1_model)[:20]"
      ],
      "execution_count": 6,
      "outputs": [
        {
          "output_type": "execute_result",
          "data": {
            "text/plain": [
              "['conv2d0_pre_relu_conv',\n",
              " 'conv2d1_pre_relu_conv',\n",
              " 'conv2d2_pre_relu_conv',\n",
              " 'mixed3a_1x1_pre_relu_conv',\n",
              " 'mixed3a_3x3_bottleneck_pre_relu_conv',\n",
              " 'mixed3a_5x5_bottleneck_pre_relu_conv',\n",
              " 'mixed3a_pool_reduce_pre_relu_conv',\n",
              " 'mixed3a_3x3_pre_relu_conv',\n",
              " 'mixed3a_5x5_pre_relu_conv',\n",
              " 'mixed3b_1x1_pre_relu_conv',\n",
              " 'mixed3b_3x3_bottleneck_pre_relu_conv',\n",
              " 'mixed3b_5x5_bottleneck_pre_relu_conv',\n",
              " 'mixed3b_pool_reduce_pre_relu_conv',\n",
              " 'mixed3b_3x3_pre_relu_conv',\n",
              " 'mixed3b_5x5_pre_relu_conv',\n",
              " 'mixed4a_1x1_pre_relu_conv',\n",
              " 'mixed4a_3x3_bottleneck_pre_relu_conv',\n",
              " 'mixed4a_5x5_bottleneck_pre_relu_conv',\n",
              " 'mixed4a_pool_reduce_pre_relu_conv',\n",
              " 'mixed4a_3x3_pre_relu_conv']"
            ]
          },
          "metadata": {},
          "execution_count": 6
        }
      ]
    },
    {
      "cell_type": "markdown",
      "metadata": {
        "id": "4c8YnLNicsvM"
      },
      "source": [
        "Then we can just use `render.render_vis` to generate a visualization of a channel at a particular layer."
      ]
    },
    {
      "cell_type": "code",
      "metadata": {
        "id": "TLPmfiGSczUK",
        "colab": {
          "base_uri": "https://localhost:8080/",
          "height": 187
        },
        "outputId": "0f929063-afc0-46d8-815e-b823f251e3d8"
      },
      "source": [
        "_ = render.render_vis(inceptionv1_model, \"mixed4a:107\", show_inline=True)"
      ],
      "execution_count": 7,
      "outputs": [
        {
          "output_type": "stream",
          "name": "stderr",
          "text": [
            "100%|██████████| 512/512 [00:22<00:00, 22.75it/s]\n"
          ]
        },
        {
          "output_type": "display_data",
          "data": {
            "text/plain": [
              "<IPython.core.display.HTML object>"
            ],
            "text/html": [
              "<div style=\"display: flex; flex-direction: row;\"><div style=\"margin-right:10px; margin-top: 4px;\">\n",
              "                            0 <br/>\n",
              "                            <img src=\"data:image/PNG;base64,iVBORw0KGgoAAAANSUhEUgAAAIAAAACACAIAAABMXPacAACwCklEQVR4nATBBYAkB4Eo0HKvrnaX6XH3WXfLxp0IIUGCHf459LADjkOCBj8gWNw32dhu1md13H2m3bVayuu/B/7hx1965+cNbxa+dm3wgX999wPiX/9BdexxAJmiqlPesFr6+K9+cN+p6xe//vgnHn/yz589+pU/PPPQ+auXXAhS0LuZOlkkUj4cZvWQoAbe+uNfP3nUgPzgTw82D0IA/OQXvxunYjWVA4CoDDvTgtWLLLB62OpDI+BQdLmMVsZ72rww6I/W8tPZbYd88z/69YVsfB6n2U8+fEjCOtwuVQSciJxEJJaibVuZStYsH1w4X2qwdN3/4Xt2PHQTAzz6xbsm7RwTVhZr6b0BfbNAb6Szd7SWiur2N8aj1Mb5n7zx1oBvh5Uifvfl4dmwuQT1bfk223FHa3UlpqJL5KeNiecc8hh+tPvta3vMUwsWN+zuptQqAoLMylp49yM3f/y2r6BAdGzl3PGdj//l28Nv13bNnr9+d9si6mlbq+1O5S43kGUzpXImJVNqeeKHPzlwZ9eetv58BSONvCCwipzAJamuPvir33/UhVCfeHhPotNqLXagibV/rNLgx578+qHD/trBH73R0trVzHbec+uld8aLSLddrxgQwbQb/fsvSscG676GHYXiYmitZGrrdmKxXNHNkGgRTpmRKo7667UEs7v5xv89S51duwlru24U/McHR0mqGWMN0KKA2lClalPSU2kcDh5z1NK5wvv9gWpVan9xvt9pjXVQZQ9ZOB2zv/q3P6iyjBGG43fctq3ZF62wVmANpP1lBLJpyWih3LYZndv3aG8n/fRn/t/t29p37/rgH6+Ow/mEZgV2DllLBWJyrbJvUNAp6/tXOb9649Y7h5/88en3567+lIbjt9w+Rm/f2ZUdxuqr69I8YVNdh/oWfgpSc/quf7zxT/DugdeC27K//TfHxBOdI21beWHAXvjnv5cW4hMw6vnSYx+p1i/7+u4998arrY5yy9CHXlmtO3KvDDUzeXRXRqZWJi42sPmB40fTWaMLTaxlsxZa0fUmXagmpKwJLfzi5yeaceQnJ5++dnG1dPrGVXf1X597CPz3Z/7498zUo4/eXQZy75y5wGX5D+y+eWGF39JyTsqdr0cfub3lI197Z/f+xh2DHWfevMKaMbPNLFSrGOYg4ALDQQIKcAxx7tXZtqNNqddCybHXvvm77/wjprDJSZbKIFy/VAcRLVc38F5Tz8aNrEhdb2lqT5DtSL5ExucKspCiugHNz2bjwR3yK89d3nPPZ2688neCoRq8NqO5h4U0Skdei4v04j8+8cGPQUXwby8+KbQ1fv32z/zh9dH2zixWywc81vGJ6AoP3TKAk5hxdIYA9K17d9t/877k8zOhfzx3jDEBX/4upYxNRqVyhh9s7KRsiraQTyMVYfAmdTTc2jVvkOlnl3yPHXDP17Ppy4u0t8VGVX75mxcL+UgLY7MGCFfvYQTtjb/x7fsOBP61ZGm0s717GjdUGBFFExLv7Oqr1XGY39yIpIqlXJPHtVohySrI4ImMYK17Gr9oXvr4jycPffHz08/+9sgDQw1D/++H//1x8Mdf+ez2luHf/PYlWzt12yfuvrRYmpkJ3dnu1BHT1cVpo5ExcQyOsCf/8crtX//c1DunWjtdsU3A2uBEC1fQxmFEt/Cx3OXz5/b0N49sayD29H3twU/iQO2he+/TyUBUmQYrfrCwZbCDRdrAYowhthbBygZrJ7CF5GzRoTYxH1Jy+cDKVCQDCTcF7SO9u37x4un+3kAyk6okQnyhiMtgE69sAurw734bG79y5sc/+OrRwMAH/+eHv3+2YTdiF2VR1/lsxsY4avW6DsHRmpUDNjoC9YmEHURcxtAFW0fLcsfdiTdPuWiyyak1De5YWxOvr6W52tkjewyycvPFtNphfG+G33Wks2Vt6n0QDfa0eq9ceDVcaPz29x85deKdk5dPF+NqoO1A5cJvuWoeAYFdN++gjjy0lVpqpDlV4AQDkIhO5XmOlnQNXbWJZsUKSwWJsFoFWvUQ+NximocbMheSLc4t97G2+Qqrnr5001f+E/z0n7+Venn2w1954No/LlyYW3vsc581WIF/X7hhN1Db3J7Y+npIZvZ1Gk6e2aLAirMzgCRTkRLp9sP2pn5pNbYxO7Oar33gI9u72zqnL12/Mp+67f7h5//0L0AEGvaOdFmdfCGZY1KI3l+OFDHkvL3bwiDe6xMuiZ64sxlejNLp1mOujWuIvsxYmm4kWhJjp28Z8YRiURILoEqlqJWKC2vz48vfpuGK0/dEvvrAgx2J4PGrz539+GOHoNVLeYhQCE0rihWEpaRQNZYrIsagQ61r+Gq1x6EsmxF5Plexg4RnoL0k1VfzgLic9gSYfreCWBqv2vbyL76yvyNTNuyTcQ+YOhXsPFzgC5fmQ3ceHJb48u9//8ze3SNCRVmIiosX/p6XVTuJ+I020dfIorWGRlO6hMo0aQAqDrOB4UwEFaPEUhns1nOxzv6OWFLUpcL8LNJgUCBKi1Rqs+PTdz10WKG7PM3Olqd/Ab7zH68W98y/PAoPjQSlzcwbL53vPTpw+80D16cX41m1xWOtpaOpOuy31y+88p7jyJfo7CJlg1pcxOx8ZXlmumdH84MPHopm62+9M+qztfg5uVaJ1OjA1LWxajnnbR90+o2oXigLhmJ6E8VE1usymPwb05cGugxrUUx2NDUXZnJyyh5s2Mw2F6e2gh01vlq30628QhBglS4BUHML5Cfeu+cjYzXZjQDf+9SXNky05uHHxucJ0mQCK7QMGywMItRj5UitKnKqUtW5KLzfiZwfhLMn5mv+FqeJbszUygQKm2gZ8jQs5UV9c2NPy/BavHvNc+mIFS2L+9XMdZsHOzPFtNirdx3a++8Xzq3G5/u27YnNzmwW8qHZ6WQurWial6Xu+uync0XVbJQZQg+6nQShExQAVkuSUKpU6pJEF+SwARAj2R6+vhKPLH+wy16VG8+BINPR2imahJ//BCwXN2DiBUkCGcLxxbbB4Q8dTyAg0+qP16j3n74MqsW77jyazS1HElKwxRZemHW7h945/Vx7oBEh9GB35/kXxwCj8Pjn79UgYvT8KhCv7OhzRHixpmYQwuox8Ml8ZnWRT+Z5c0tng79sQoqKjhdgVyHkg+HR1t2gsglNi+Yeu2dj7aKjw9iobLuwcCPARFG0pSRxOsA4gS0ZhRDCtpl2b739LwsGfPczOz//D/H8tXO4Xv3P/W07D2EybNsiQVqVF9NgQcoadBHgi1Qhm69bQ/TAAPvOm2cy+7oJA+DN2Haw7ryBRmWBVgtgR48FEdn/fPJ0O7DxxJ8//K9Rf6U4dbSp68310m3brflI/Sd/PdnXqA0Nbg9HMMos5EMRSYZi0ydi0TrV3Fctlu452qtTehnipHoagqsAIuu6LiFAAMtVa0LQGoCbnL/72lv3HW/f/4Hb37kYXatQOQC0Lb0/c34VkeoqoB1oHzny+5+Dz//xtmLTR0///W0X63IpOVOrv2xzh5fSy9dv7LljJwHbk0un2K5HRt/+V2+z5dL48pEjB9auzpFt2/bvck1d3RR5NWjWFAbLienhDhdnb7pwNUzU5t1BTqrI67HoZqjKeC2tTV7AaYB4Mj4+oTjTAyM3TU7PBbpa+fEJixGEAseuXVvqcUXMDp/KVwsVFyhucriRQeAo5CrNXcEunEeUYKH/g4O3KkuIZS7Oz7z8irA8s9NJDtsYJMANtnI6AkynSqLJEM7XV0ZTHx/kQxeTNUkfp/C2kSGMARG9wPM6YuSMRkf+/XwMDn7piTvhyqkvfOxEx8Ch/T3944mlQ7tHhFj9ldX5m7tcOOZNVxQazEsVXkPNK/MLsp7gQUchW233EuuZSGMDNuRyYQ5WUSkI18x0GZRFAYFcuGUrFb26vnD/4baxl/DT88nFRAIxYv1BsyEVoSmos3cn7dy5iJsvPPMn8MSvvjMXR3Y9cttmeTGbtslrGxZzRTc2hqrV2ZfP+RpM9t57oqe+deyBu776nfEffWr7b547N3BkKKiLSxmp0eEsV0t1SAm2m0a6WxaWSnPvPdcbRNLGnaUq7AxiaikqJKMLS9WyvW+gz0YVrtbMohFvGF/U/cNWrJbLbBZdPUO5cA3InGrpbq4IwQwPGoGIFVMygJXTwHQIiUXOs2J6+/CXZyuR4uzJDqu1YjF4Dt6chrXR0++V10OudHZ5NdmAq73tLKloFRPjutf7vU+fLVfkb+7GuobZs5Vgqw9WcNLAOXQBxNbzYHsH3dE6/vxTYwnzvbd9XK8D89HR3raGcy9PZjDto8f2wgQ6u5Ew0ihLwTXQkA5lhNpSqYzUJNhB1XOqxFIQX0kTuIbDstUJQyJdq1dRGDbJmUvRJGiAHh20gP5bHvnQb4y6du9nb7d7bfDiOIZBkOeudAGU2CIR2XA0dIGHhvtv23br2ctXA12uupsALe7SGkJWi64GStTqZ05dwUH2loc/9aNvfltXQxhu+Om3PvLGdbGjHYNgpyoLNi/pbWwhC+Wr58YyctnbAtOeBhfqQvT0ZihqNfvLVJ3UgLfOJYXU+vbjJkPXSHqtiolFhZE13izBald74+l33h0ZtlCgNZ23UUDIa84llAYazCfzncnVi61u1EcGYgi2kMlbvAFPfZHM5a5fzfic0PZdu1OkKVG7GrDbV+YmJp6fFovKgJFG9dofYjWhKsMY1LXD9HA3V0dpnISArCToRrC9H7F62aUzU1FkZ98dtbqSJXi/sfT+haK7Y2h3L7M8m0vzBbfFykAIgPDpMllJr6pqpVSzcDSiwwUEEmCpApkYuZ430GU1l+IsOAlJVQAEjfD+3man3fPmSeUvT720/ZbmR3dgixIXny8ycF5gBy2UP5srzi+XDx/tXljRwY1Xf3I2ua2hBxZgrZoo8Hoto7D8ZtxFakmkqcuR/t4P/rg2N6FpMgCiMEw2H773gQ5rTGFcBCiaTBYcTc9MzYVXQUfLzsHgwR1tKxkwsjopCWtOW0dCZoIdho25DYafOrlOYqYd+3eRJWGzAiltoHNpPN18pPn0jdFGCt7W1X19TUWwei+RyIA9OLxhIVqujS1b2LzVvFsjiFJ8xcYAZd0OshwtLrYFG1a3FpYuXPQQ5qYu9+LsZQYB9BGb1cr8/gvXwuV6J2s4eItzFkvD65oKgyYrYYbIQJ8rYCcl3TYxsTa9KN1804CN3T6ZSKDl2TpztLXB4kbil6+vIa5WjlAxSAAQqq5ixVAcEEM51cxRZhWqmJgkKKIwS5C19WzNbOZK3e1qKCHZg163EVYk+J0z64tXFyGOeeCe3p4h/z9/c9Ld04oUJcbAhNU+J1YGodpS1FKWyDt2CODdjz3Qgckp4yCYWEdVNgsGGzrZJrd24uw4sLmV1tX/+tKnHnjks6qiA4CG4AZfY+/gSKuTKMFcEFSV4voNoaE30Nt3U5Ct1aovvnWjxak7XWRNtVK+hnYbem4tVl6LbBD6wEDb5Tevr83E9334kIclXz89dWgvTcLOqdOL/j1mtELygtTI5QolS4GvbetoPj+RMZNLAU8zqHnD0ZTBCJsJ2MLSGIJoUm1tfdlNVK39DUKlPvreqQ6rTAUagUxl9NRk026Wwa3vnk3e3qXyqka4yGyRFlW5KlOhqKZR1gaosLMd8Q/tGt/0L6zPs3bNA1KAaOH8/ZX6egon9dmi1clY3d5ycSUUAYF6vAzgJGmjYIGE8zoKmSlckHJGtGzsarh4ZbmLzbUNtk1c3sylYrlkvWe7L9g86G8GUvOXi4Rt6mToA1869vsfvH33Rz60NX9dwlpxxgmXZp6/7P/GZzzgX39ye6Hh44H4tRjSlOGkDg5NreRPz0fcFt1BBZwOxzMvPrd/28jY1HwszwuFss1qpI2uLldexRtUuL1pyNzmsFc3Iu8vXTdYHIe3WxfW01XU0N3o3wot/eyHf6ry9X/95csXqr5Cdr3RqqxUnHNvTo+0Onr3BCaN0sVXJw4FkaNN/qfXAL9NJXmlJgA2JxWL06XoaGdbEEM863nBQ8OknKLsQbcToXR4LbRl0MqEwwLW6fDlZ7gGwGJzVOvq5lrE54OgSqkswucjqotWjw3D8SwMw1ZAqQIIRtHg1qx6cssCVvN9PTu7LbTdBYmaXqQNlKilouEq04PBxgZuUZUta1V7NbVCVWN1iFRxzgTgKllmKRCGSJyQOBNTL000g7F1ynHl6ak9R8yyoPlb3ZzDoimoUt+opgv5eqB55NDFf//xg1+759ffP+3s6hnsgRbnRIbqFqFlk+fhH37u64gvEBAujNcGPYno4mBz86tvvB/PGh44cquFAm4sTpx7/9WDh29JL11xGrS6xDLOQKWwiahAPlyqWRfNA67MTPTa/LylxXvg2IhWrZ4d3zq0bQfLcXOZPIrhLQd7EzOhSdFiUQXJ7EyLOa+pYPpg+/mXr5feFo0NbY1Wk6uD/fV4qtlqJlTzpkrbzQkEZ7bWrnUEaJbyX1tV28y1qiixjBnBMBw1RWLpXCbu6wward6pC69DXrmtwy+U1Hwq39FGgWJBt9EqT3bUiwEQjRbZjiagWK5oICuJqghg++80dK4XF8XWtYXwWBTXY3BrY1cDA4xLUEb29MWjHqtGDQ+9OreErU10oIYVgCIgwACazMayjqEoR0H1aBVVcpsLlVJKwLXh/dzGYLvJLjX3dC7N1bRotaKuWywNoKGvwZsySW/Vca6Ylo7d1fC775/ZeeibnCW1NXvD0uoo8jMlPoq89FLRP4zN5eRut/nCm9eCnfvu5KStzfULW4JVnR4c9K8nCxb3sKasoQQYr2gMBLocNnYpXIqujF1bcOw8/tCn7gJAKb6S9DjoW247OrkeT569glWrpsbhX3znZ2ulxOmJZTWacOCpqqU9yQsCmfnQV4+cezU1/frZBw4YkusuhzNgwtVsiHdbJuwW84XrWbWONLftu3I1Kog1yq+BFVe2Jh7rBjIFfmpq4uYBt2QOTN64pGnF9p52pVbP10TSbqGgJILBRdCI6iCiy1QHU02WBd1udyLpDOB0Y4ktJV7UHR6mJRJu3+vJAGQylNocv5ieN+zfO2hyZ0MRmfONnDtRAvmtNodEFAWsBptaPEZKF2gXJYp4atluRzHGVDWzFnOrTiN4ab6/zfTiK1tfaRXkrSlil8uYswJ1RIPHIbAhmvMyNkzIpINBT1q5puYmNS2HQDwmt4Aw/r9f6AVPvvDwuLb/IBV7+UqSM7IBjw/EM69ez5tzUk/AkKlYcQLGQD6fzdZkazi6RQUaW66fcaTjqFrf88/vXE+1pXMzzRZcRl0lhoDDeU0rLaF1ljP1MFomVo6lWdxUyVG6wjmcYj2ZDDOitryQlY5s32OPvP7mdLkcsHGQhYUdbKuRZhdS6eLS5Zv290aqdGZrrcGrEcSAWI17ArDZum1r/gIkx1q6++sFsRCeZT1So9PM12FUT8JiDMRkFdI12VHIFaPhdMc2Uq3DShloHTRVskJVgs12cnEqHxzoEgW+lBQEmAYRJwGrqxNQdWr58E3tMUfzX37w9L5a8ejInep/HPnar35x12B/o69b0qOJyCpidDs8PrFStht1I56pFlL5nKCJpfYW+p+vpjoH7D3dWHaryBCeEhD2tnbASf7G/Gb3oJECrO+Mxu+7Z+Q7X3vOdfBYq68hM7PE2gZ50wJ0oxhzzkf+9eqiyWvr73aVcwun5/Xtzc07gqmNcIGDNBrI1avrOmOuVXIsp5Snztuja0UQ+ge75+fffqfXxaeS8GJEq1aK0vLW2vrMUixyu6ftUGPnGcEXY5oEaRNXpG5/HyCwN8bHGZY0cA6mrbcbL7/95jlIcH3w1mPdzYTgjK3JE0ubk1hxq6uzOSEQ1arS7KbN7s5yYkuWUq1dh77wkcf++cIbu3YPVhQmzesJAHL6+inGWy5Ec8WswDhJkhFkr4q3ZpIpsx2Cq4inKZirIpG47Gz28HmF4uxmhyG2GMVRI2e1G3RMBoCyoth34r2fu+XdrHF5OvH5j4w0OWC6DX3thUv7OhtZM3n2/Fg0hjcMHW0KNhQrRRVNLIfmFqczq+ESrheLZoZXCrt22zPzlexmoUTKMJve1tEaH11788x0164+v7319fc2drQCJhOJ6WAHKDZYeotluMznWzA3BG9t26ps9R9tbG1ilxOJyQ3CVcv0MpWi0wPa4RxSTJSLKuqshgUodHV+bgGWnW8BVNvPfnvgB7ee3lz57x/95baDDbCR29oIRYRS561773/krmuL6fGTl+8ql9yVJL6/f9ra9NbZecvqtX37t8EKOy3QqIdBY2NCmr15ZPfsRIyXgi3ywW5vgOkpdvS6yzxM2qEAIyVqakdn3/LGVPvw9vD6jCrXPvbgDtY6PLVYy8Xjxw7sspKus2NLGiObm0cwGK8KME43weVpURMxI6mALA7LDa2GjYl4rq4a/PbyVsTV3levS6qkazDFmT2sgjGkgxM0gS80d/k6HLY8Eej665M/iY0unn/6qN/OWVpMvV6B0EOr6ez8ll2A2DLdZW/o296z4/ChnkM7dnV1KaqB81F5VWUB7tiBPYTG//2vY3Ol7D0fvZ2pJEZPzQUGew00MnZ9o/vWw010dPTS7/sO7y5E69kSAD7xX3fLgT0mZCW5LJXyZXMb3eyjFjcg3WWhMnOb43KGCCRCIS0yrZCao6fT4v5CLhF2wAvH90MLquvs0+M9HcTRu2/LR/judu9MvLKYkAdH7OVCenU1bzNjh7tbZ65Gn06rBjPh0XgSJxI46M6curqpOXzHKUnV/RkNpi0ZC8iVrZi0dFVgusROo2lhWSA4PtjQdenUhYcfuWdmbFpRl++7+1O/e+Hdbijt73OAcMvM3HhHU87OOSrZooZJqYoLVNeM4vSNueIddwzOT261j1hAQczFJRkmVcpAlzNN+/ePvvq2s2Ewq2AtHkzI0iUR1zlbvZiBylaSA1xG/MxcZi6x+eFdyOn3DYEWj9WW2ZhdqQGNng43jANmTIG1WrpexrKLfCyhgxhuQi2uPOA/8N433jR0c2Wg3N3kueP48NLsVFZgUEtjGx0t1+gbq+j+7XQknHn9QuqBh28JX3xpSfkoArVXsXy1sLWaQVtGdts4m2MpFuNBc+31s/07beauQG58dl+nRO1uLxaQoztvOz92XnVRjRamXNCH+hrBm5D5d84XOqYtvQdffn/tFk+90UCffSdaabfffdeBaxuFBz99Ys+A9/N3Ns1EtDkeqouavzhfzbFV2meSs3VMrfM1ipSTaBXKZIpih8ZV9vYFz7ybRSFkz87dF05e2ranL5dJriY3u2ye67ObfWRBMDrrSFDNhhQyvZ6GbmxJdj2PVSSTUe3rRp49BcKEwWDEDRQRjuAOl2JvcsWWE1WFkxQjWcsw9oDb0zz71rUm30GYVMVSiWNrpRrrNcKEmd0oV/nExu2tbhHqDuyoJqYuc3Rn17ZjHR1dicxmOL6ULdbrgsipcTNjRIYbLEbAxRmF4o1aaWM0JZMKfPrNuxKLCy89fbFtxG8nXLi4JLGu9QQz1Czw0cmqtO2mHu/c2begXZ+wvXAWKiQJYa0MBtp3bUdg0jo6uVQPE1x49c5H7M7BYSU8cdtObXBHT9CJOAwGAY/7m/FGo8KZbTXEUy9t7Njb3LG/e/rkZcPo60O7u/5dBAv1zfsPt99qbX/iv55be/6fv/zDY5aHjz15WcrlN4Kc5izNCfX8ZcVpoSGYlGRMpHGKRVAG12wWKw4V2tuwyEIhh5ABczxXVNdLaIPNcOPSZpvf07GzL7QVTkhYd2enWqo8fXas2dBwc9fw3k6btaXBOuxpGQaTseWiyAU91lS5auvsgNN1XjDJuAEgLY1mqKG/Y/exZ4xOhjbR5QoK1Ci1hiBmYyUPMAqAuumcCM5enuwY8Ls6Bku5kkmN7dwVXItmApzvN7/91UY8iRQxP9bS7zS7bK0i2bjD727AyPFLa5ev5A2Q/Ooz/2VA85MnJpYFfHhXMBNGK+Kq0eVf2IBtXIXG+Vi9vyrnjdyKx9kxf7Y8sG0UIgoGkF2nITG5KYxdX/DVUSeS3X63iXIEzr5yfaQLce3aM34uNrBnOF0ocQa6wYc1WlQWUtw2GK2QsQLcvX+4Y1/XiZfPuk783xdvO/xG2x1P3IhceuW1+4919Nz+yJlT1+jpswe2KUVWCW3OUiwXLRMkpVqgXFmsGUlAFnEUQBAJQ1SLwc3UiqXxNe1AJ2s1G5994exAo9NiM8usZGI975++7qLR7u3br88uj1669tUP30pZiH+ei85e3TCna27CkypiF9fNTSxsdjUUUzKvotb+JjlTiqUo0uixet3VSkiUwNiKiKiYo6H5zOhVZxMOlKCZhUpw0CNXK1MXrvd1mIKNXbWMIGNlBcKEOnn3g0ef+dvP3nrunb//4h+mhpaCkp1M5vOaolHQiXPvvXvyHZapde47HJLwlWu///BHt/3zVJqSbKJSNzOykWQm5mpOsuxy5iMVHKmTDjPLQ/54xHIH8tT1tq9A1Sqs2FyQDsq6OuI0OJvB5pscgG468czStmGXwejCUU4vhFGutbtBK6eLrJHBSMTqQFB0C2VtRjmzEY5gTUN7Pv+B56aXX/vaT+/gqyRoWm40X6qrUmrN4ZBlPZa6MWkQapwJXkxLRorbgVeluu42GmUe4ghYqQMoAqFoWddFQPf6fDgfD0eRTjODe7nkS5NZlvQUCsXWxtYsRpQii2ZNZ4Lei+NbAOQ8etPgwJEBvKlhfHI9vII1kiYNJHS2CVWDCp/EGYExBcupLMf550MoYzz2y+8+1Ndy6J+vvbf7wL7QzLwC6OdHS7fuQ2U1NXYx6nIYm7t66mUsX9o0EjoF2kHaXqjI937o4e/etvd3v/lxVUU5C9LtYysJHY8tdB9usdw60tfrNRYiG1ljzbGdgYDdPcaLJy/XcI/TW8tlsBrGkUBJEIbWE36XnrCKtcgKRtgWYwfvrv9NgDhT3UjIWhUwYDjmxSVbYH1enH1rvqXN3t3TtLKcavYBAkkUM1F3Z4NYVlSh5PU6GTmLsy7VYNRLUWwtaaxpWHPH7p9+9yLO/f6r374JyH/8pp07/HQYFhKqTDFBzu2CFCC3WeXyYQxOXy2UO5xoLJXESRCSijCkY4QMagoqADCnN9KKQpOra+U7jh+9EJKe/v5vxjcEnNHSfGak2ZmvcNfWo3taPUMDHcvr61vXFzbWtt5+P6br7vZWze4ooYSuRKI6Y5Roa7yolBF7V4dvYnrMwTXHsilruzlczhtNnYm1xIMP3js/p5w5/3pr36E335mkWOP+/YZsVYqGIxilQQTZ0GSwcGj0+hmxLO74+n9OT88mt65WK6bICmyzgBZHb23TxgnwO9cic2viTkyQi/WMJDI2v0YY83PLPNQFEUAznqLMe54+H8GKhUoze7EMuJ0g1nQo8YLVBV5FaLOtEsKMpizJSSnFI1yaM8I1d/ewwxyXpXEJgWHQ5WkNREZnO+5oL2xMwsj+YmmUYnawhmDlyvPLeb65+yGjl4tHZ9fjhls+9aHqkjtS2Vp4OlPw9Y50eXU+tZiBIVQjacxtYwv5hZd+dgaAEPVo7/Gu5vVcmbY1okrNqUpbQCODlSx6bVP1WkDeSoploRRTHCBGlbMrLDNitNAnTi04zNmb9vVMhOqEstnZ3LCQqFIV8bGbLYBCbWb0l8Pjt7X76DIaKYdcdHcxU/cGSwjFwcbW+PSyv687zptgQOpyYSkRL1dNdar+pQ/v/Puffy3ru3dtM8yFN5U6YbUAGAEwZmdVzF+6fgNFGZfRLeV4nV5LLm6qaaBxoMvmBC6PvmUlMSfTQdkVmhZKPIhVcqgKrtcc3W7LWjYJx9ME4UYN6tXNePXaxG1f96bUg6tJ3dWuV9/Z0PQF4uYjUCGV0oBK2dGgVFk9FHX7aEuH32hPmizAjSlw547b507/fffNQ7MLAgIihMkNZPMM1wkTlsS1l8qsrbH/Fn8zFi8si7xmpo1EKMT5GlclmWeyzWQxvlqYzUMcC9GqQEBytaZVwSoIgACKlnR7pGalNA7KFsSstFZp9OtqoyYVZBBHqiJidzhtYvgymMrb2wZu2h+MlOGrl0ZZLFcomws56PCgpat/KF7Fjw16Dh3b+a85LT0VBy4sDPJO0tvO9ltym9LEfLSx2e9miHfjiMMZsLfiC+tRqYoYrDaWABLxOsOJBrBqcm6/vmULmgub8VxRaTPhRkyp1lRLOZLcXEvsPrDj0IHj9Rh/9vyYv2HnwYFhjEkYWHBsctnR3kzjROxGqM9usKDYnKApRF85qZvzU+WGPtDWqW3mIUY/WwbVRPyJX38s/dbAhz757H94rWdem1pWM8O3dUayVfCzXz7e29MJ5FfKWoMHl1SzqABIu50Nh1VIJ1o7hfmlrR2Hbv7jN9868qgLNgBw0khbPOdG1zVUbug75jcYMvGJXD2jY/0m1lGu5fOFNCGKhXRhtYxidlSHoQYwLjFkpoow1dzKKl+xiYCAdBps2QrAshiE4DpowKCMj7Xw1qFQarMfCVc820URKoqV9189N9DVDmNacm2mDEA9na2HdrZni1IsVfexdZfXtLIejoS1I0f7ZlcW9MXTu4ca4m63Ki3ZhO5z09neXgtpseQqNQssiRpTSVVVBfQzSFiyGTE4SCcvrJpBacNmNRQKqbJgaG62G0wIyzGZJLQeSjTaYIuTM6P02uTpksltobsYMGxxVN8+NdHY6TczWmYh7nVaC5AvDcKm9GxRdNiFSYkvnrgi3fz1byxNnrNDSYvZbS6v/+K3iUsZHtAECwM9+eGh9ZajdYlWltPgL7/9y6lNqq9lS1PinsFGNTZtbupFiumSQPiaVwtlM6UNzsVP7B86/vKP3v/kX7917cz5lRvTnkFDg2soFw7JZh+tVSQFpq1dfKW2GF1HJbQJQGiGihTqFxOrLiSeA228bjGoUVlM5wVbI4WAJFjKlzGjkaA4SMI0tdZqht+LOPN5fv9Ih4RTfGqto7VxMiSsLKy6A6bc/HiuWnXabB63EcLhgMdkt1K8QhRSfJOT5YyqtFnE9TDdoqIIfWW8KFNAc7e/y+x99k8X09aOL94+sByOLVTqXbQslPOJDKMS3JGWxLuzLAKavNBUBGiwCWKRNOt8wuUjFJpwgPUyYVd1AJehRDrd0q4oKT4TVX0DvYiy8t71uRa4kXbpnnZjaCEWWq/7GMyOq3aqWqeIH//0Umkz/lk3U/nS99cuL2YuvHyxVM2DeFkdgii1dbd6W/9ws8W+OhVuoFPgboab0dmAw//yS4+98vaNjqCFREo1gILIEgVa6hlFA0t2k9C5/0uDAw++/+otv/jllV237vc5A2qlXgJqiaRks7n9ja3ZZHIrtCUQVputmV4oqKFzVSeBBYJz8dmpRNFQokAtF05FOVez34yrCGkgAQSso4oJwFEzUV/h28NXlu8mZ0ymvW/339vfLoeWl2ZCGgsVM4vXS7JiMZoGBgc6An671SwBOKbljEaSo6mlTL6i5j1gNTnzdtrtSUeLQ9Wyyd+vNvv52sJkydUVqcXBVotZc5oqqRqEA7pYFTkZEDQ6AZg8wjU6uP3d62v7W4RqnYBIayLDO9k6ygIejlEo79T4hMlnJGmjE4jVgUJiEyjLyrZtzQvvXPLvPpypyfzcaY7lrEiFZA3FurIVraZOTUbX0/sR/fWKGgZgN0b02JmBIwPtO3tkX/D6ppJayVaXLhRBq/+BQ+CXaewpjT1y1xP3HF/ThU2dC+BqmqRhBuNKkYjASg0dt9DZ+Wv5+R/891anWfvjs1/ZXFELkSXIabXQntXlJaPbSzLGQmQTZEw2R3AzXKqF5giCgTFco1IVXawIopivXJyKArLsplEBN/s9nNXmTkXWIJw0W2kGrM3E/YeIGiSw33jyL5CujvTt6b53qFUvf+eZMzpCUDjX0ddp99pIyojpeRRlQAys1USZl9tNvM/nX7541bW3o4ACmUqy0Qi7devSpSS0wz3S2Tt3Lfba29Of2BUAfB1zfDqASoqGIvWCVFMAytrTRX/pA//zsR//x9x0KthlU8oigOA8L9rtEmMG4WKUYJBUCUAkhGtuxEH14skbPr+/e9BfDF1YG0ugDBdsJolymtegeAFEcZypEThs5PPTp/86/qAmc62W2O2fzZuwcnhmZn4eT5f8rBPAW6ARx6H77ps8eQL8tZV6+OWbvnrhkcrczz778f7VSMWJBioQr5eXbf5t/sbm9OK7v34q8tBB6qbHf/r6P7+75/jx1fFsmQatKKQoqMGCrCf1fKrIOjmf21TK1VaWIipH4vZWh7iWSS9VMXBnq3d8bDQrGyRJi62lYNbksbXVizIARWmUkGG2hqN9cEkgzT/987y0Nn2CAP8PMYxCjo3Suq5pCG3wdG3rGt7VyPEkTTh8PovJZmc1GgdlozGeq105vWLb6R4oXZLG1+WmYOO+PRsrs5VCwawYKGYoK9UGm8WJlybOig1Du1tt5U3AQQkqmVtWth1vfnz/zZuVOgfDLz//7fcndUtjM1adpYxoATYVqnyQ422miljhBMhWr+laIdnTQce2lqrJYusO67X3ZuxexOPsEsqlkiKCsglDUEInSaka5XZOv/BH9trWnfd21dv7X6/5UAbZ5SGEUjUTjknV3PuzBWFserpSRq7+x9HnPnXj+7879N6kI7Kp4iSr1mZBsGjq+hCp6z//5o/rIvD9H39F5TeT4ZdeeTfRPQRoZK7R6IsmVZjSSZJDq/MoBDFUY7FQ3FpaBk3B/kaHkJuKZpY1v2ubITg1/b7Zy+53sstzEYvNTAhoKruhoqqRQWRe4bM5hmUimpBwFhyGQhaExkB0D4C9Wo0DqqgDuibBbfuaO8ES7extdMDpbGglX1xSQANBquUbnAg/dtfuAsj/76XiLcPtNze0Tbx6edZBP7qzN5qATr98/vZeI6gdGOt0m9/7V+MCkj8wEM+sBzXFBq+trybDdVHRlCKgvfC93+/71n8tbW2yDS61ukHCGkPX60IxX7WZXG1EeV0ZOwe47BSMgPJWNFkeNjQ3+s31cqkuwiBBMTKJkiYEhHBQAwye8lrM3dpawdUXywbueurhm6Co1nlmLGm2km5PWw0Sfn0fcPlrua9dr4M///brm5e/0f3pL62cuRBkeK7PZqBYs2N79fzF/37m3W/87JaBzn1Toy9sreM7Dh3MLF1fLSa37b29HAtDOEIgdL6YBWgXpqZB3bwUDXM06m1q4QuRfHwLtSMBT1tk9Zyo5do6bitERotqpcHkS6aFQrVgIKBqBY6UGEnXlFSVcXhim9mhDot3eN+nbv0eItc+S+kXf/P8qa+dAIGrPW3UNz68fyHB8JCjv9UStNIYzazmU6jBJPHFxbn5jfee/dz3P1Niut544aLVWD3apaQV38UI/ZERd+jy1C/eKR0PynftCpx8KZ4CBP8BSygcNmdT25q1e35wvsDzTgx8/Icfnw2R23tQUBPdVqwOJJ2gqGHWvGwzFq+rUtrgUtWchio03dGweG58YHt/OlpnbaRSFVUJICgfrpUAHAJoSzhpDk+N2wHeEfCPnplpvO3u+S24AdoYHmxZS6Ir5TIJGxdfmtrPX+/58d/AX//oU++8cPWe7z40f+nC8N6bFZhTQ6mnfvU7ygR/4pMDXpxV7OaVLclCCyRDiiqHCUkRIFU84PFhyVC6UJdMRsRhMY4tFPT6qq9xl6IjaxsXzB4u6A+kM5HC+sW+I8elLL909XT3sd1g2bEWPtvW5EvHhbTMmTU1mk7hmGkpg5tQjiXrNzZVT8uOyOgp+vjhyVeUjct//vRfnpj56/OqWHj8sT7I0jYRKafzYIBBBlucxaXimJ1weBM7zezJNxbpHH7waJNoqcwn5M2weJPRWI+mtzzbdlhldfb0998ozy/HdgGbj5qZ1fbdp2auSNnMNzzc+LCpfmjPiWdTNgfT0qa2meo6gTnNFpWj6pm0uDLNAulmJw54fDogxlfrPUP+0lJEtDYq5bDLHszkUySGw6iHQGoiSuXSlLAZldFK3dTdZfDG5kdfm0kduufDIs0sX3z7QEsT67CFCkmwzL2yvNifJcCf/+69N5/867aP3dyyYyD29+elhXcSYu2DT9zmbHTm15feeyFsD/q272jWEX7m8rq5Y68ZKSbiMdJIm0gyWwR0FGfQSg2kMpl0k1Mq6Z7x6ekGJ2ELmp2EevbaTF8j3D78wGt//3nXDr/ff8fq1b9zfpfB2Do7ueLvdIVurHC9DXxKyczLOUAw2z000LY8e83e1Daf6ZbTp5dGLx/8yEcavR3L0fDy+LWDzdieQ/2ENfh+Ek5dHgt64VuPbD9z5VykoI1096Tjejy73N+EUVQ7RsAEH14V6DrPA4laXZKXQvHc9Px2NR9XucZcghZKeZ39B8w4XFCiTPkbzWDQ5GxGB6xZijSXNK8jeo6Si0W/F7RAWoXfmUrjt+5dfWfc1zdUy2cpHIgneNbs5dAaZbXF1rOgJvKqR80kFVqDjS4z2ZHbjCJON5iv/fXV0YEDB7YdGPz3hbm96oYekpcymQe+8o1f/vlP4GMffaDd5vrLn57qb3VuFZTtt3iPHLtVCS0xSEo2Il7/4FsvjXU1O6xdR/IbV1lTIVqwOWmPZhTikaKXwVCV1yytU7MLvXYFdJpG5xeHTBUE91aadly68NQhq+4fvm1z49rm3OaDj31gbvS9GmVyEDJoGkmPv2Lb0ZG4nOo4cteTz7zUodKutuZiHljIse0OLsLr8RizGRu3w1Kw/6ABCdssXWXcdWEpVp6Y62Gqj9zVCHmxS7bhE2+/uDeb37v38HJCo90cr2YWzi5ZJT3YYoSNPofNZIErUVGOVwm2JGUSN+qUZ25FjD77W4ckbdEjZCssaTVRs6EeGHdoAarWbMlaxWopUtXtOsWitwTNJrsmNra/9n8L990bKCjV6mjOdbQ9uVJEy0XHroFLvzyx8wt3rLx2A24OgoKOgJpssDGAR8nXYbISqRgEweQ3om//+1SSsn7gK//x+oVXg8nVe27/5Be++uKnvtwIjp8/nfzch0LluvPnn4A8xy3E1ehaSKtbEUC0cyJC5vg4fWMy37V7n8fFJpbeJjhvVTC2Url1unFmYepwX+t4tOIXymYTPK6k3AJjIwXRGhg/9W57N6V5XUGT4dRzozc9tFcsr8VKpB2pkeZeVVpb3YwN7xqOXIufjRZJCLyt17+QxDerWBsB87BlfF6kza6ZS682+ho97bsdRqBWKhs1kW10RjwdF9fEwgt/aiJdn/vKnctT54197oszmAsv1CoRI+4x+1oT2agUXi1XdVXwaLBownPFFLAWjpldanQ2HNkI22xsmeuDMUjgKxJhaPBppFT0twBWsqrxRQOq7hhgzd3+isRvhhPWq9XGh7zRGKJOrDY8dnTyuYsjez1j82qzhba3VXbsuf7VDxru+didkfHNMoTDpBlWSFAQEZjNo57IVp7gshXR0djcGpovvP6Pl22DPTs//InUy8/dcnToNxeugTtMnY842RVAPfqLr87fOEVotY42GwRBhVJNRyGrj4EgIZ9IlTJJynBYMg2tZl+8t838oY89+/Ce4KGvfP3kP/482NtdrfKIWa3nVTchqiYqm12pZ0sGHWq/92OvPf273g5u54D5+g2oTnIefIP22sYvLW8b9nOWtu/8z7XHHvQYzJXYmnm5ZG1hMxIQvBoCmi228xdOi4l4x/5b7YH2YjpnbfLItbChmC/pDrNptd63J8MNPXPsY587Zul44EBaslNUtqYKUsVBoYBR01ZFuJIvALENoVzIllAU0C0ednO9Eg3NBoy8MejLpkyRrGg2EEZEqtT5gT4arqYsbkOnF5EZNVurgtNZ+/ZGY5Da3NhwhaP0LQfX/3a56aBTRjylyzPM3m3Ke9cbP3bfm//7l6FdXtzs2YgiFq6qImZKxkS1DDJNW2FJqosYaoIsDRKmxRevgUoNqvnn482GQai2fO2RuwbAVz6+3/mtf/7gsQddjtpnPvfJ8VmtXgy3OnHADIrVslKX3I4aYTFeWQ8Vp1KAcO/+B9r/l0+fv+sTMAR8/a5d5u37OawogAqIqyQkYrSgYVp0fMvfSTh7Dl564327Gdh2x55337naRnAOT16R8Hne5axdHbnp3if/fe7yUyv//d8HE8XiimxtM1cY2XkjZzETDeORyZk3L+7o8pgGj7kJa0Wq5k2ERppwZKsDS67PiBFmt63XmpSv9zLE5slwo6OiNHDN7rZSVSzkwomMapYCNkkC6WLF4AYgIyAUF6fH46tLThfJ2roB2pZYmaM4qpgsNPexpY004TDvaJYUvpiRwe5unDRiKB9PnCvr/YM2LwDMjbKDVj3DZpcT1h0+MZzFSKKSxVk7IMTKbGP3+NjKSGtTXowimgnSy7glkElwW1srTo/V6B4Sa+aFsZO8xR5s7yDLtWeuxUkx1+pxJOf2Q7V7j638/uv3HAzUeMv0SsnG4RxDbqlmKFcFlZLAkiW5MZ4EdcXa3r1NKpxa+K/PfiwxpYMQqoMkkAHMDdFEQQVloKoDuFbTkfB8yd9p9rbdtnztjMQnGKBSD1040NmV4MIhoFhn2+H1ya6hm6cX5179+8q3f9k7EYstxg1dVJWW9QtpHVYB1DiVff3FYVO2yFAiZUtUeBQrm7U8q9V0Cb20hPkO3PeBQfraD7+xx9luIYPs3i65o82gGaM3bpSyCUSFu/xUsMFABIIVc6tQlGLjM2defi01M2XzdnDWvQhgNsKpplaXV8i27unfOpc7eM+AsL5UlwmL19rRAJUWSnoVBqwOz02eyKXrUA1mfZ2p+RppIXCMyC7woMnE5wSSIesyIBF4Zm2pJchU+WVEt8OygBsDYEUJrYwGGim3A8dQvlgeBY1Ag8VlVdHFrHB7R76zs/N0ucnnW4TqrxVrCuTdtbtlaMfK2bOKlvG4ECA7uamShLPFbsCiW0s3FmoO0C0UUdeg/uRc7tKX//xCE/XkXrvW1Bq98hZEa5kSL5vBogJkwpLbjTn8DRMrk9lU8vgDIx0Ht//vD7de/fPpY917WywP//OldwbusBTk/C++P/viv253BgJ0k4211xOSbaLgLOSUxpEd33z8X2Nr9VuqYpeVUNK1ej27XKsLVq+hvmZdTbTt+MDpxdwzoy999+c3F8+eDZ+fPuzYcJN0rqpoBtWsEk6OghWkXksIYDSfC/OJhFha72rFOw8f9jd202adstZYBG/s7cinK0d3eWN8Vsik9nxg29ULMYQgIZy0dFkLaymgoGEm68DdgXdev8Diosvh2kwkjW1mvFwBKyRh5KqlHF6DAZCSZRjAMJ0NSrkwbGBRULh8/ZLND7tNMoKISj27EV1p8JPugGk9tmQm1xGrTce2/rO9eM1+A6rRa+TtHj2/5qHX6wbr5nwqA2ScPbomRSan8wuzfBG3G63W8mZStjvEHQ9tG2QWATBdFKM1aHkyS4NqvAhbGTvN18tZFFOrisc5saWasrFtO1oWJ4uXnrv69Sdvve87gz//wRtPfOaJH/+/hxHN+p3vnfvd77aFU6H580uWUr6NU7XimlrN9Pkd3/3oJ2qCyivAOmCaTrXrxTDOyQTnyIZzejlbb7CRpYXbmdU0ap7I1QzdbZidn5sMw+nNQzsch/bfpLugar2KoVUFxypK3abnFbzaMtLoCDaShA1Ba0a65IBU2tQMlsqkzWmi+KHdwRsnkaYWX0uTvjGfJgw0pNVMrX4+xOuxiNtD3fxoy0uvrUJ1wW1xFooZ0G0R4imgBqAUXChmSJA3wYhUBoorKwavE4LEsfOjHofW0oDzNQXC6VJpltL4QLClXlkq8fM0AYOku9nNvpuu3dOkgCdGvxubNBs3l8UGkXFSJ98Otfd1D+/2rY+9mg9DXMPhKmgg8QxDCQub5VIV3OsR5TfOnV0q1HDc3N1YwUiADLjaTJIqKxsr227zCfGIVqZs5kRdltye3ShVKNVCSCzLe+i2LmtxLPzEP4tP/uD2ueJ8OacYjSyHG2p1PFuuCHnk7A1VJcvJE1f6YFz98Dei0+MyI/j7m9qM9vJ6Qgi4Al3B8PuX45XEJx6+88yNyzajkXXUKmkqXy4e6WZCxRmzaEqhJgXCySpcThbKqAYTHq5aLFdRWGGLYMmJUyRpJB1ccXVVM0BurpCnjzz/oyc//INhIVOEYyJkqwc8sigqAGXQCiGinDY00zLimngv0hJwsF6mUtigEXN0okD7uyRiE6spBtiT25iz9Fs0xb05MQFwYGebFdDpcs1qcaHXxxYNZm/3yJErZ0+WVDbQsl0HNEqIJqD2SPwq+MOvf7V9aeHdw7ZbO/vFrXPRNK5i27XynG8QUOpk6Pp6b1dP2cDO5XNcte4QASovSpy7IG0UdTUSUxMlssSK4y+8hXm4ez91c3Uzvc0n0UIRD+oN/m6hmMaZMlqFS2WDsctuoeI/+NbE97/UvpIlVAn0N5orEqdmI3y9nAdwtACNh1CSaiwmNxIy5HNYsyUcJJhCdqu9yd7eyK3XOKFCBY0Rym9Jb6w1BxqFckwsq5iH7PEgd9/1x0pR/svvmwH6LlxJJ0o50tRAoqSSKUAiKKIOUTLw+RLNai4bKys8L5VpzEljDoG+GL94I2e8qdPMmF0RtZRFcQFmdBCqaySGqDQcqYCUQpDE4slV/6CD7sAu3MgdpiROqdT0QN6NX3kvefRwQ7pQrKzlZKjatM1el+1ivmC2ahCKrW2U7U17TMbS316fHxzYhsC40SiLCLa8zuzz3gD/8JnHsg+aHrJ7Fl+/djYZ/sxnP/HW009diFP3HboPrF9MlGORus2rW0GoCsKsBzIToF4GRQkDMnWlKiIkXfnFj57L5yogBP7gNwc6qfZYLtMwbKNhrbSVNdjJcnJT0Q1Qq7eDWfr7b5aPHGuAPbtCmQ0PyhfjPIEoBZSiLQ16RZ2aidrswUKWmlmJNDR7dMyQ4hUSqNjU0uxqseVQk7dlOHFlWuEqA0HWZcbi6RXMFAzQUKacRWUQ1NfX68X9nY9NzU4bmDphDAqFcqWC4aoCw7SMmDLhigyQJFX3GJl6SUACZlTHwvNR0p+1i1uS5Z7rr7xx6CO3kPlTOADxOkYgRSOkFWpoJhWV6iWDjzZiJDBVqRo78KZUoyH7+pfi31uo//tmsvk+w3wcw+sEX5Ybd1hxmUsm05QXgSEAQC2lvODweSLReDkJuIPOGiGJCCILCmfw/fnKGvjmxGdr4Y7NP/3fZnv///vkHTMr/7h8dv3hu2//+z8veocHe5rc586fpwG23WKvqGaYVlgCgUm8hNIEANdUKLu+Emgu/+j3EwMPPKSf/n1XH+drayunARiWXRawzJcoA8H6Wq3wwtVTUdpBd2w7Oj9+xcFVJNRAmZwkLXG4Uc5Gr16J6NwIr9oyW5skIBDupqJiKSo5tcrbLD53LfTegqEi1D77sNHiKCxugTCmeSywKOBVqeS3NoVTqz2NVghpmtyYbDDUakRLPhzGdIAhPBoBySKoi3ihLOdqiEFT3O1NWjjt6evhty5vbC2TXQ+zYJJj5q+M5mnGuG+kVEgVHQZbOR8qFSSZVIZGnChtjCbn86Jy9dUyfjZ/ewf64i3D//2htzRdZxFo6QljbA1dLeJNx7CqKFWqjMtn5DBFSul6sHluOhIYIEIraZTylxQJ5QXa1CghRih2xdnyM/AHX729+F6y78ePdPiA2tqZP/3fwhf+55Ho/EyhUCkJLoZ2MfrWajiFs3ttRpMG3MCsPgr3G1BFArSaqMJq8dy1LNq0l4s977SkFQ0mEcTkMmC6WhMRzo7bLQ2wtDR/blH3tbb0t4Rnb5CchWMVEeBoMJ0tmqNLJUEs+Fqcdd0/O5tGNd4RCOZlF0bIxXJW1sw1BWg3r5itHYtnl9dlqddR2dNHVAyBgihjsEDoMC8Umv1cuohDhRhtciUrBCMmNM6sUkFGSog8ItT5qsgZjPbKaqggGobu2nbh8rXz78/edbShs2s7n8cq6RnWGwdU36W3J4/ff4gtvhWrQzYn53M5EBC4cerU5lrFZcQrSrV9B/bUt/LJTekoBnw9r8qK5sGhVx9nLoyClgMc1QZ6DZLdjaSz3MZqNbDbaapU+HVRbO3ko3Vz9468MI8jrko2XFGhtYItfnIa/PqXHnr4C58YX/i/YKz4/JXMsXv6GiyeF55968HH9qzNZM5dWdpz+062zJ9aYTyGjNNMy7AdZlw2UsXQerFC5SuaqqSWVpebrCDNGOsKiWhhVa+6vO2YzbHdW45FJv/5vNC3x9HfbVqeChlJRsPFYklAVakuQ4iCogYNJs01gd7a0OUazxiNOttDYJW6VsYEkNdNRUxjqyEPZVEoEWBgoipoYhpnMQeB6SiskJidlTM5XEfwcj2HKZAZA9OAaKNdWA5f4mUIlyncodfzuqzZG4+mr60bjLELiXBOlD/24P3VVCW2FLK4FYgGZJpNX9NS61OPfXqXKofX15Y3JjZXlrP9fVRzEwMpJGPD8uWqp9X46Qev/6emtMNAkYKXCeibqwpmQ370bS8RU8s5QAf0wUEP4akjbsdPfrd+9wiBq5iCtPECTxBY1WR3mDAZNoHMYBn7O3hj7C9P/vWZWzqoa3PiwGFfj4+5cPp6oNnoado7cellDaNpzIFZWrJLl+u6Ttt3ICTqZmiK1kSYLPKgUt2KhuaqZFtLYyuU3UTQCkyTVQGIJ0qtptW//Gvl+qJw9o1mBN29GlrDZAJkNUTj7ZxdIawQwuVykxqkCwV2YVqpaxxnUM2cqQJZMLQMo4AqGHB5I2rtVsO8VwkxDXiNBzEzasBqgIxUIImGSByv8BW3JmdpPMfZG2pCXiIwD9o3MTmVx7JD3n4QxDIVwiQkuAZ3AXL88oM/PIaBtz79ywIvLYbWlHjOOdAFoIiWWkWrCwjDbZJ97z79m16tbndhHUOOzl6HUowUU6JAYYiMgTUukuSbtrX97Fsvfl6XQRUfLQHP1fRHfrEL3VoOlnWwyR2r2KbPLltr2ra9bprOYDv2zGVESOExTJbCVb4iZFMwJWvmgpRyDYAP39L+1c/fcW10RXMbdgw7569MlkFy9+4dWzdO3tjkH3pgz9h7c5uCdHyYnV03rfFMm8vpYAsErq5DNifojs69sqlx7a1HLaWshG4qGAoiQQ9bEDB++vIi40hefj/3vW/dNjOTpA1OM1cs1fMKFSxmCmBmnQABT0tTJiHMb2E1kSRhyOlEi4RNEVQ7qcMwHCuRAWJddY3MXItyZJKxdXQYU6FynDVxCABjoCYgqq7ASj1mbzASilXVawjeEx2bXE2udw73NrYNLIbi5ZRKVsnWJnaJ58uF9EAitHVe8X3x87OlNJRYdLZ0CnoJTG1htQRjg929O2qViWvjc7eNGDGjS64XE/OLCILqqAnTEFVAEUxXNCwxtWp121IpqHRmYUGGbDd3uBDVx5VhK5jfEu0Ubj/sLRShT3308veOGNABB1nG3LuHBDyrG9oVKQ/gXEisjL42OfrEFliM/b+P/ggf9l0/cKQrOhPKFCrdvf14ffbcVDZgdwxsH3jjxAmagIb33TIzt2AxBHK5OAiia1hTn89MzbwUryr2wY9kIgpNTYqobiRdIAiur6+CgnbwSB9ioJR0KFUXisWsmRPKImJW6zAPgQETYq8CdXT1erEmGos8ZjSINAqpZFMShZoJUYyXwdZ+PjZmQRV7zwMv/vind3/z0Td/8eyhB4ZxuCaqJQzFQLGmwaAGs4wZpQC1VEHDm9nNlVjfUdPu9o70ZvSdhQ4UsFjJxWa/e7OAZwW0EUaa3Nrq9XQcA6w+mUaMdY1giusgWbS3B0uqcXFqNP3e7OEP3MRCeiF/QwQki5tBBRqTARiWRVAVdE2pYRQs1vNk/J3ZMC+Ce+wue8BajpMNlCjmOAuhAjR/KRy8q0NxtC/nFvFcqZgmNzerXhRDGZThWityMjDk0s0f+P7bJ5APPTr3oW1o4ODw5ky2VMasLieppqbX86AIt7aZVhYmOZbr7Glaml5y2i0mukIA5ffmdTs34K5vnA2Vip1DTbARrV9ZRSWbISBLQCYbs7d3WFmgWEhnVvOapljMkMsG82nd7QlESysQqbgT0YrgSGcUATOXi5rdWCNptCqx4QLd7atLZjS+hnZpelFAaW8gG18HYNhB6LtvH5p5e7breLfTWA2XEdrowOtVHCgqvHEzgqxnVge7iDtuO1CXwCdHF9UKs18NEx5IDRxY2Loq1hUXauUMbL6iltxALS5DqreGaWh0Gm5pgBxtm2Jy6dJEEx7c/Z97aij2nV8/881b/G4rWkmlZFTTIVjVZIIU8AoC6boEedOL4zGwqg6SNpPPCik6g+qKYDXCIQFsZETz3sZ8pG38Vy/0PdoNVImBXZ79B6xb+XIpIyRSvCYYZp8uX574xYNfdkPv3RCXqn2pWnVzuWaiSyYGScXWw1Gxq8cuKUA4JnvcjAqzYDVupBObdT1WBQ8f2WnnVn/8xL8HqIbHj3/5yVfeOcUm+5schgoYr5I+j8+nJewEEKpxCmYwuTgaBnIVcw1xTJ69ytpoR69N9tlCM0IizlWyos+gyBAhAA7F6m+x53OhVEmwde4JbCxOUAriato+eeNsoK83mYgZCODgQ/dff3ouEvH2eWgptlpEUMzVltiqgmzsoXsGvG09r16+8e6TJ+6mh/a2HOKb3KX6TGnpIswN2EkQIdMlyrHKA41uY2ub5/KFSSMjU62NVZXObOQjp5aPuZr6GvzZGDi2OHPLgDGH2pKpOoBRIFCS1aiGUZU8pdZhGMaXlrbWShWtkwp6zTRCC+UcZccIWZR5Y7evI3MjVYPNqo2HhwxGE1aHlNf+dW3x/HWTLLc4jdu2WXoPc55HGw5/+qb152XoAx/8wO13F0/8/py/BxFVFIeSZ6/mmwJ2u0leWStabRBnskZW1l0NBt3Uii1l1Jofw+WibbV9rzGq+L99zze+/2DLre3tL18pzWnRFmM2xQvxOvPeubxYlJrMol6pROqmYrHEUoWBnRy+WeHj3qcvYiGQdbA5v40sERQAqCpkQWXd62RiUkBYzjhNVM3qCuUxREMjK6Vduzyg4I1EGb4w9cBX7luYQp/9l9pkamjjfNdPzZjdeEuwd3NzdfrauN/c0vPQ9hIVSYwvEiAneXwlhCRja1Zfk9s3tLw4R6M1s81XBEsCpNQkuoaY8tFFfj010ne4braECqvVai5ocg71HFjZrNRgCw/05vGmHMjVNuK6RmTQ4LvLelGuePvcVobh2BEvF1svq0BdYs1QHrEpoZDTSpv8e2feutTcaC2JVpwM7r7zaFrBr19cmzi/tHg2klyuUeXs2cS684MM9OHmH/121LWtwxZfKHga/e++uW63oc1N9OwSigC6y4YnomVdz7m7dsSmVje0eEdDTSlIbz6TfuArDwQfbSO3Z//3e0/js3OfOtAwxLWvSlUzK6Iw2tPjCjTQqyWbIIO4UnNacRgieHgwIgfffH5sv8d8JMhIKhaRKAozO23OaDoNw4hEW7w+pFjQlmcRN+u/447eJ3/4694DhwjUWdMUk15WKrkNIH/3sYJBXX59tjE6He7qYjkTVcwkJNHZYO4xgzhJ+Lbi5VJt3gLDstqCgKQGI3XZsBWv2MyUDjFrCamcJ47uG9iaSmUyDAGSTUGmRqAlHY947SEWAgvofBTdO9wEmbyxAgwngmQtqHbtLRsaQ2tbTqLc29tOipqvuRu0mDfOhD7wodZX/l3UmL1uVgvF+KKvQ+JjFAvJVcpK0gxQTGyFOjramwbbiGYHwZnDM5XVc/IRjlhe6YPe1e7qzS/IJMu44Mj0lZJID2zryoRTDANabGohqaqI0NbTtDUzt74cvfuOXhJjX/v7O098/OjSEv766zN33LX3we9u//P19Zf/cqJS1kcc/VXQHhcspVK5ktxEUQU3OnSUAlVY0BvPhXNbtcj9jxwmxfzcYlgl3XacBqR6DmM9rkB4sSABGmYRmgK+KxdjZhMmQ+haEtvZN1AqhjZmNmizbGg8AIzOTywv3f+Fu45urz7xt0tlzcGQlppey1UyjIWplKXxM++3tllvubV5KRmPrKoWzuBp9S1MbeaypN/lNhpMM2Npf8BjtNOJql4p5NxNrRrdnojns5l1aqvcixiqRtLurcuUqVyp5rNTSP6G2+okUcPK/JTdorR0NcKICTDQHUM718fejBMwxnQ+/OiO91+7OLZYbt2522RtvnhtlXEavf6WhcUI4Wy0mptyWzFZQHCexo2loePesKN1ckt259chaxrSvWQRHoLyympI7OuntEoiCToYCpNKYlXTnRa8locnrs4NH/EVEuQ9X3h9+95GFMjmI7m72qTsSmI91nv/A0dNfd43rlx/c7IEK3YnVsMIpAo6xKpaLJMQw+XUhrWEOOyw7m/bP35+aoOvwh09CAIZalpW8yfySHODTRCs65Oy1zw8tZXYcyxQ26y9diX/8L3bw6HVmXWAMUNMa2dqJY0Ym1u6j4ZTq8+evPSbJx6gI5VzJ9MW1tbe3D+2uJwXxb6uEVRV8zLGJ3hTIS2jTdkqzhlsCMzGEzrA0CzJVjM1HTbqOKPnUhDjWE9FUFBCVThgCiAs5/WZLVbTqUuT0Uh47+Fm2209i4wwfepUd8BibGil8UCllAl29egKrFRq9hZPvRao6uGD929z+Pv+/NPTJOOz6zmcdKAs4kbBSDirIbrR3wbqoEwwEuTbWobNZiMLoRmVg2gnK5QNuDRqRAoq3aSKQIGX/LRWzWUTIkSZKhjofuHdmV0H7I2c7YffeO1r39zVPGh+cVJ2uMGUDqOsi1PW5Apu8DeNbGtSMkvTC/PJGpwtQzhNEahT1OD1mrlCIRxHxScjJ3/zKi7pbvt+tSSYaQxxeDNJmKtbSqBuaSAJhZmbrzoZpqO7/Ud/nXj36alDh7yFZKGUFhqabFvxOi4JopVAwdDcsj4UHCwl6nSzXVCrK4lALhZu4miTDAg6lcl4o2u1npGOpi42vDgfTWBGsyHg5mcXqpDG0k5IKok1BYQB2OezTs+uI4gB0SV/Z6DkYiKgdu3a7CsvTe3q77z75v11Eboap1ILibbOBtTdxGBksVRwBUwG2jQzvtC1zXvg5scnnvuzZ8feYpIwQtEd//HA5PTcO+8n/V0eRJVVu19RsGpOqYgqybIQjGGCVqOHkeVlS4sHqCcgsTwXy1p8DFcwNiWzKdrgToqdibwKUriZhBjQdfbc1du36e5g36+fn7jrsOMAtFGLZnua7SYwpAsiAulmK1fTSlpVAKWCwe5jQT0SKtRVqFCE64pOQJi9nk9u5Mtjs+LqRt8tnVaPqzg112nu4kU2AYFBX+fsWNEAsqrXHN4sCDQi1+Xl1TUeoOogHA0ltiTC67fntCCYFACbG9DgSNoElQmD0YkQVLRW7twzAixMTmzkUbff1OiLba1FNuso1EmiuupwEqCWXN5gWVpVYcYqVlIpFCFJI5GJlJwmVqfhjcW6UpJN3qZsGU7H07Fr19wU/cgDQwoUOTMxlssS7EosyAKm5na9ztcFzWxCUdqWyqSqtXxj2z5RTCoMiWoWGShjGGGjrfGC9oFP733+TwuZAoKajRRgjCXLqk4VtdaUiCuM2ZBdx129MxOhtk4/FCkZdgYveul7XnoRw8Nlw8Z8CxeBoFJdqpIwOn1pfqiHoG2+p/548diQy3z/wDjtLsbEemI2rngphjSbtFxOAQRBU3QAN7tMAsSQkgyH57dyFVHSlEhsPX7pnHbyVH4l5jJ6WKwDDTS5mrDx+RhraClJHM5VW5q0d0+sNBndaABwVutvjCXtkH3vAP7//mP3G5dVCiEZA5TfiMCEK5spGEFNSusUbaEN2EbOIpdsNS1Ot/T1wPb5ZX66YFNxV5tdwvFKseaLhWtGzsG5gUIiPBUi+praNjZWIdKoyLwGAShWKmUB3IwTaCFWQLbm8nok07Gt39Vl38hFNMzb5tuxnNUoZ97VYQN0Nl8q0yyOGVylSIyi7SabQ5LwUibf0NnEF8uyRFCOfgQor65H7J6GRz/zwaefWhg9s2ltbd62b/jGgjA3mWxxOCXMnqUlPiMcHDgwUUhCDUBX0vihWz/z0bGrzw1bwLfPJcefutaZL5gK5blz800tOqJrNy5kuwZ9dVU3zK0bs3Ca48w+d5MTZyk3n16ui4sCxqkATREGHuU0I85RkA1R9Wuj4y++uTq3vLmZ7oer97TaCLItdGaFUnHvwDYrmF3fSFFQo4orlmH74mb11MnY4Z3+t8ZiNn9LoZ4VRZDA2Hyh2m5RM+lkObdVUzNGIxjJyCoI46SYzWmYXpNgJRfXSRNs6T+o55pL52ZNtnassRnUklcnr5I5rGqg9nXg49NFkhBN4CJiaazGF0HIqYgaBUOxitLtodOifX1mnmOrtn4vgMilkiAVHJvXM+fOLBx0L3Z2ekqCa3HyotkEOjw9129cUQgdZSELjUUSRVDVCQvLZwuknaVZ89Rksr+TqlZNV8byD3/6Po7wvvTK8uho1uPt6nep0nI0VmdXdTtTWtTStU+Kq+DZPYMfRp9MjR4DNakJAek7PUujVZlXDu80HDpIe2nzVoayWTSzWinhcDovkwZt5+Dg0lY+vRmCKNrbtYcEtGyypAJotI5rGg+JZaPWljn33urkTAaE7I2u5uZAMJ1tYQHqlltPz/AOL+nq92az+PhyzaMn+ga6XxUofHP1xoX1j39w10w4QdTAiiaALEeW6wIBNtv5yRWr25PDq6W+kVs2xs+Ym9vrigBBOiIqFrJUpjy0jqTStbpgbHbGBH4D8AxkEnEWhjTCxNgaymsbSYB1YGGZ2lkvhxgtx2McBoJSRVBVWYXRYipBUozRBmu6iONQJJUzEHJXp7nZj6Py5vUVXzm+MdhloWhu/vqqQa0N3fpYMfvaVgJGBcLAUBWNAWTBYjOW8vlXR+c+dNvOct4ampp17e4VdWBzNpVaTO3e5oBo8xvTcz2GfpGoOXeqP7/tt1ezOdBJuQZQ6GuExJqUDyT0dJUXdQCA4ZHt3OO7TBtVxOQkFV3VTHgjrFg8pAQ5Z6Y2nDY37LXYYGcqmlPlnMVmW6uyiIQgqU0+lVhaQ9bml/VardPONR6+PQ3pA1YPBOZot0E1e5YWtgjWBJhsrSy8FRofTxHHe/pxQ/WnTy0wFvrWfpNe096bL900YFreKjU14NU6u7SU6ffyIzfd+aG7v/HHk39aP/1OR4elmOZFIyiTnE0V8gmlCgsNTbJOoNF8kl+qNfVtM5ls6fRmaasUpQMjdp7PYwvRtaH2xvkM4taz5apckCW70VTKJXQMxjCjUK2wqFjFoJ3bXD6bschn0umt+RTSzEq9Xlyow8uZkgKBzUGKXq/8548u/t+zH95a34AVQpAp0ggYafLk+VCzj+HI5mhEbuyGC/nC4lK+qcvnMLfMXl6UCdFltIZOhntaTOWDDR+983G9LoB//vPXXv7PP8dU4Wc0oIHoc1XlNUGGMOJvX7DUVAmgDKjL7raoNIuulol8sWqpG+2NlqyAunFobGuT1GFzc19RK5sqhdAiWShB0ehKWTC2MBkCJWbAfp9T9XVwKxvizp3b+eQKgdasrv2RuXVNLipOm93jz/KFpXOzrMkwHDSeODumMo2dTTBcrUTTKmWizYgSE4H83Mx/fPWxT3/yp6HFawyKvfj+M8+9vHFzL6qwpFwhRCWHE4LXb5A06N31VSdFNNIsXFypgO6C5EZJgIZFUMNCdZ2RqomKdu9Q4DcvXmQtsgd3pHgeI1EKA3AIBJEARNeDTapSqid5AJNCNkTsb+xAWHguviICRg9lwQoLVJ/34f+53Ftt+PGnW9bA6lYM7qBByOiYKlSh8GyftyWquCw2NZJMraXlPe1tiArE0xtbGNOkUnK6yFg5bCLyp1OZb3774NLkG+DnHr277/4HkwsvnfjN2b6anNXV/M6PfGTk6j+eWT5ws2Gw35BIsoIAsqjo8zMF0Bop8ZCYB2tYqKDs2+m2eQc3pudniw3x8DqBuupF2Gcu44y9kK7sOtL11vtLSHzjse99fvTUVTzgRGiMVIHUasrlDxhsmFoXZxYlG5Q1NzuvxOoN/IZCe+bmVxiEsdhtW9HNTq8zxxeT+Vpvq3sjtjG5pMcuv/bqV/dfk03BgH0Ka3WKoh1dNbldhKlnZrV0bmPtjlbAZTIiRo8mFmKZrM3RV63UUbC4ESvDMGLQS2OTZbJNe+KLv9Y1/Xu//FJiIWv2eFBJxGlFYwyUwVCtVwZ9qsSinMXoQ4n1xbH1emmfu0mHG8bmTrU4Va9pRCwvIY27F06/uUF0bbeZk7E1a0vP+kaaz294RjqbMNPCytXVKnhocD9UBROpXAmvQbgRikZhBLJsP/zsb352u0jwaf+NWw6B//rbb0cvTZBlSd+xe+7E82U+v3uXZlCBVht46XqaM8N79nt0ilvjIbCg7nDDpL8hrCFGFrebDO/NRq6cDyMK61OsZNuAVp8L2LyhvGAh67kc6vBRLEs+9ftzX/rR4/lYoQiXIYiAeNjiMLFGaygprMzfsJoho70lVa21WqnpMIxVltRqfnalYrIzTkZf3CripMGIg5BeLUOGNgNr7W3cSNc9QMYgFx0EGq9J8v6bfTAdeuNcuVbctcdDeP16VVidPxtTcYchqFRiVrstksaqEG2TIlsQCybiT/7fP+q5AgAAXLD1m5+8fTNT83kaFU0mrRACE4wsZuXaoQCk1fGzoXj3bmyXp+vM+6VcfeamPgl2HP3H6VcPeZ0UgF7I4P0QxMezdPfBXHzlrV+98cTzd8/MRiYyThyINXXsNogmJTURx0mNcJriK6RBh1wHXxtdciy8yTa02bfffvXs++BDH3qgx26vcBY29vrJU+GuoWaWstNW3mjCcbWcyMrFcHpnMxFssayQwWtbOXMm0u1wZCVPNLrBOtvRlp6aqeyOKySvRi0mLM87zexCuBRobSpsLO6556an/uvPwf3bDhxsnLkSY3Aa9zfiKPT+a0+V8vn+Q3e3NDiKxVyhrlRjWZxms5UCBLCjp0+hDE4Z7aVskTYRFkzXMQaHIbOREOpQ0OOA8XgFpfx5xw5f/6VQ9Eo5y5Tj+261dzX5Jq/MnN0StvVTrbYAjmtl0D4+t8LRoF4DFA3M5qOdvs6fPPOr8TenQQD85T++sT6u2FtgWLQxNg4VEiDKwTReheTwSmwvs9l7bFdeML/w4rv7tjHbOqvxrOXcqfHb7r5rbWONz1SNlg49FMkK1vY7jx48+Lta5vluFn32Cc9mtqH9wOFqVp1bN1atAkMAVEXWcBRhgpdH480XfrVtpHFp5LP/PDV/kz0N/uzXv8LBZLZMhE//TWFla9fHLNVZHJYJJ8qoVY30pxB5fHWjJ5Pf7sSxocHLiCFxfY4jJYxw4RU0wDbBPmQSN+Inz/Td8+DG3HTz/m3zr77ddeux6OUrrceP5uYnro6meo9vJ4wWi8TXK7XX3x89cLynsXUbXBXHZ+chHEIlXcONlfJiXW/ZWlrau9P0mY//UteEkX29PtKKu20oyqkahBtBC41YcRhDqEJ9nWrqiv/gGTK9SHL0Q2fezBVKP3n6zf4O302tlKgz2UhiKZ4pyOj25vaiWFAQWhVqHEktbvA0iS/OnNIMspa1tw+1UbpEWI1mRa0bUAgkDdUQQutwc8csXzaNnSZj9a67DpJ4YoOvLMeEmxuNmc010bhNLiuqUJVErcOlffYP4tX3/6pIAoLCX9pp8e32X1mr9xLy8Zua61xrueS2OSHJ3Pz89WU2udjmN+Z4cGUdaiOTKjMA/um7n11XMfXahRxWNrQdcCEmHBvXMK8m8j4foBR5TOKwPv/ZVDU/ldyejLZ2NCr7bo3W1xiiXleI+LSIxcGG+4al8YlasKX8zvXuL3505h8vN4x06zyAsFhNKZB5ffz6yiP/+/lfP/MSMHfltjsO6VxvOV2MJ8d8gU6ZV2sAWNfqRtoY3cq7repvX7g6d+p5ANApxvHgx+7js7zd4aogBqMKIBhiNTJGeL3EYSXNctyj8e+8Yf/Y1771pX8+eM/23XsDU1tphJDq2WIG8rR4DFaKmkkVLCSuCzKA4KlsAdTU1eU5EhDiBbMq5oJB1mjrQqEKYyYNgASgVY1iAABQi7zJ3hBOL5p9QLC8BmTrC0p3i4ctwUkMN8USGbaMKTWWNUlnLl7714m0lN+CNfHsL/oXzXsWl+LWJutWClu/dipQFTv8zeuiqlS5D3eQOL+W9ex5KrB9f30in2QuUwj41f/6zNp4vrExjHNGA7RXIZYpsQxyFikvWbwqTimowNYX87ZOZ8TvnAhtGq5NBOqCe9vBiOwHTRpjo7XVvDPojCdTeFfz3J/P3vT1h1avXzFDRsxpw5Xa+tLKwK1HI/PRF3/zy8c+ecC06xG5mA7PLSKcnaXApVXF5oEQDDNDxNzclqgnrl1cP3/2rCiUARC79/FHwHAZbOjHSdmoAVkYbHIglJxQPI793bvj7809e/L1D37rMwos4kL++Xem9vosu7b3jS+tG92qBeO2iipCIu0erqSwuRpUy2yyILxSIik1m62ImmhVgWUwHbf27bTArIwhVjStmziEZY1KNbdenhyd3HX7SOfI9n/NXNham/q4kzSjcAZuXirV/LiazdedC+toKPM7wvXemRudUOm3HzCOko0J3dwyyInposHcZmls3EgB0cUti1ReTETm3rl6a7XCIUjat4McGepqwi14HfyPT3yw3WGowamqtsOkzakcqaXr3jb71PTWtk64bPRDVd5ndW2Ob5rxFLWzeUXTS8urUFhrc+2HuJaiKaPIObhI2gDcNhR86e/nWjxt7Xf2X/vbs/vvPbg8kxPE2qFj+//v9feS11/6+Me+jhu49chWHdBqiVBOMz/2wK3xTDgXyf79pVHNoOg1WVXZ6ctvp8MxEMJoo+nm22+DlTJAtAFqDaGqVo4PbD8kpbRLv/61Bpe//O0PTS+SxVxs+FgLbfU9d/KsXU7tOPhQLle1kFNGu0sUjNNRWVbKRoRk0Wq4ykGYqmULMsBIYkaXKpUSsZyKPXrfCBrP1DuHaBkW5i9Mrqdr1raH726jFel/fvXGTf22PXdsm0wsbWbiXLIShGxitY7a5PpzYzNzWR3GqT27VMN8tFoBPd6hdpfICxhn0IRKJVF1uhwmtz9XqJoagoy1dT2fU7ZyG/H6xEIxnox9TOsHf/qTz2h1VWWCcjTKBmRcM9VzSVcDFsoRUCjRclOvmF0kEQZpcirxcGpts7GrAcS9i2FwMwy2WaGAx1pDFRkxx6eWR0YCFdr4yv+8+vnfferE85f2DXRPjd/Yd8fRi8/9axMD/uuLP4wUS7/+/m/9PpuRg/0dwfamji989cfjoxeNduMtD9xLQ5hSUzazSgsXf/3kVDIehyCUcwS272w3aXSBdpO4nXPSysXnCqkQ2xS45UsfXZiNmHDa6kYzc2tuD+UMNE5MT3OJ6cbtD28CpkL4Oq8SDqvLxSoiIEdKglw1GGplHq4CMLBV1hoh2pK7cnZqa6to/Nb3Ht+YmkutbNWMRHDPnj6/tRi/+vurS4/s9jaqRCikgq1eC5tUgDyRiOi4/eKqWIxszr5ZXCvWKbDi6WM9vYZmo5EyWmlaBzUE4Qx2q7UU28gIVHP7yMb4aDbcYWS7yq5UB1mI1O10B/bXswvgf33p44GBw6uTpyzWut3SlKpZ9K3X+o7cM339XLEA7blpWzEvAHwSJgsY47W4XaXVcS0PWZv2VGX50saq0+xudQQVWYFt0MLojUP33/vUL592dg91ObGt+StDxw6tTFZWquFHDnRtXIV/8q+ffO2b95DWhiYHM7FYvTJ6Yufxw5//5C9/9OT3rPXixDK/LiJNFLAZWg1lpexaqBBaABHcaHN2NHNOFOCxpuXZ1Wzo0h3H9jz63a9fODNrNlNJuK5Wy02cVUhGIJPd6mfXM1vhsfFuf0/Nu4ODwmZpqwD1LpRBurLoJKCMbIcp43Kq6ESM6tln2zZnGr7z5Z/+4WJSA9tpddvDu+2dvZyqVtdG39gM3zpgt7H+KF/gqxKb4zGEhKxZmfIspYq+6qqBVTZS+blZQocltJbweEibLYijMMqCZpyCMZXXSJvHwUMdl954n8TZfW2DxZikokIpNsE4RlavhB37B8A/P/UdrCjemEn13t4jLokKGJek8J6D9/zqZ39//FO7F2e2LBZXT7vlrRul/oAFJYCrZcCLAmyRhykCIsiFLR7W0J7WhiqElXLVJktcS5XfPSeifs/xR4cTK8vVC8toXwtdx96dXf7cV+7TVLiazl16azSmQztH+u0kwNjcq+H86PQNE8tYEa2mwMU6El6PpeKrbDE8u5nVEc7pxixquTOWbDAQ5Le/c65Orz196sFBFOBg3dQKkUBBS7qdnaZiTiKLXGAgmxUy0yf97h1cW2dcSc6Mrm7nKMiIRXkFNPuji3OkWIjHow2xuAHqsH32c+jia/hgIFxrsODVvFCubS5vKKEj2/e0wabNUKxOiza7RZIq4UQZq9ZFKGevbJhstrQmF+KbOKQk65iBVAFBq+OGoMem1KogaWApCgL0pTRFViWv181TQ/lQVMEAiHYyMMpnIhxTLYfL4DNn//eH/zn1758ceufMjDHYkdo639LUhdG2Z/763Be/9djmamF1bMzV6j945EAptnry5IXOgR7c01aslSxKTYHtuFqI58XNxPrh4NAyT80C+YM2wWol//6t2a8999XHPv2nIwPgg8PcaMLRvq3VlD29tqC/PRHadSQwOHAcBtSZ+Wld0KswxhBUIVcFNKWEUfktsVoIFSWYLcyqxfyNMMAZHSK/TMbDhyis6UO3271utXXoSknwqrUeFsIpTWdNW9FUSqpyUomtA5hNqXh7a3OTsASHWFNbkEFvXIowuzI2b+7880YYRq0uTz2CEMai+1ge3Hjnp0//8GeP1nPFlOop8RDrquzr4oRMLZ+RCaMNw3Q0PynpHGZUKbyejy4ybosoM+9fnNqzrSNZypBCFiK9glKuZ8uUmaNoTODlugrj7l1iWkvzCTvjpNUGe6OLACuxUETU8YVwxGjxsxQHPtjQd+czv7r+9itB2IK0gunxxT233PrMC68O+TpwN2PAyPTWItTU1KjKlzYj9x7tnlmuyTJmcdKZYgmQMK+nsaDlBblQGOcPdbQSfR2/PvvasW7oF4+/6BGL/QMDB5741tSF9+3GAAFurV1JXsMbv3Sv12oJFqNrZ8Y2jO09jQZybWNeVQmgXqlzbGgJ4CoLqYpEoFQlW/JD+dNhObkZO/bgPkwrKvFccS3Vv7Mj0NOoU+wGQqcrsrm0xVYUv01XfK4EbtbDcZar2Bu88fDm5nvzg4dvSjGmRDaaWcyaUZo1LJOYmyroBq+bdwfOvXr5o/fZVgrUlZeW7/3yjvWzc4d6rGkAKsk2H0bl1SiAI0Y5QTBGAMJIaC6TkQTS0NQ8cuIfvxna04PAUGaLN7QPyNH3daZBk6V4POFrbCRgZCWSz8WBnr09FGq5djmeLvFy3dxrZy1Bh9nCTly50drYsxSehU5kb/Ve/Wfr3oemI3k6hxJMc0UDiluKIdAgVCQhnwMtprt2DHz7R39+6m/vmkw+d2O300FmNsIiY3P7mGhs1SaqFs1ZaKCy/Lknjt568OL8WqFl+9e+fOAD25cz6ezcHCSZ8vnoxnLWsH/k6x8eYGHwyqlzz5xO97Y07iKI1fnpmkrhBALajbmEyklJSU9TJgYhrHbGEZ6e2bZnELNbhfXlqqVf62lrOtiyKJCTiRzPZ1oq/IAJgpqb2OHGrNeWLSVtyTXVJAsSlF6a1hGl9QOHFjbCpbE1LRdv5RK0vNrlspMGJa1SppZmJLe6vcM5v2XfM7jdaQXHFpnA3v7XL19osEBunYzV63Yjzsg1ymKQIU2CU7zgqVINnc0j0SsvVlmyufvA5vqqc6CLKI26OrqkOkYRSld3azISBhF9V69hYACbuzyWioQO7dv3wUM79u4KLkLgwuTcxdPx1bUY7rE2WhzQidf6/3oCPfujP93/oWM3QjLOVYVoLq9hKFp2mqm8qKQjWiFTPHbXvn//5avn3rkeiyUK+bC1zd9thDczklSvSCmKLcG37e752v9deC1fZhZnHcla4tJV770fjns7c0mRj2aJCuvrPuKjLZEr4y+8PFdTzJ+4ox0g5BfXZzC/pcmLughsa76gFUIwsASyXhuKGzSmEB0tECZqqA9X4kRHkE5v+GmP4gx6zRWhJC1n5bRSVyM5e0afy6IArrk8FEqnfGgC1fPLC2mPw6dDejF+HVJuNHlgfzNib1CyVbaxucPuqpSKRSNd8bQFoVq6Wlm4+ZEDydOXRdm4/a4Pvfjagtle8jKlqKQ4nWxGFvIYS2mGUol2O9oSkYlrK/HH7j9eSUykEorH3VQXQBRu58hNHXfjNNDQ1BFfW8yqmMHtah3umVrMXTp9MhJTfTj6wX393t2+7Uf9o6PTNob7wvd+D37+v3f09n6ldurVExPm2+9ts/cZfvilP33qwR2+vvbJy+s6Bt93Z9fo6LqJAXYfOvj3194y1iod+2+S1dqNs1eNFlt3e0dyvQQLiUKOaT/em/nf/8nvvzXGJy3CKi9yaYmztTZYcKLbW+blYDQuAmS2p72VB+qTawsuW3NfwJ3LluKL62dCGUebzQaGsFwFzBGFQnN0c6KCLYPNtyJyVUBj0kZ+8NiIWFQcZlAFhEJcKCug04PY7AQOEvUKOJfPuazFoAMv8gW73ZaOU/Pvnm3stQYdUhoioRrmMNAgw82OigfvGCkVV997q/bAx2/f2pqUo5KlpzlZzlA5bWVW6n5gX2x1Pnf1wh3370vwyS0R2BU0SBEtWpTdLRYHtPrWhfOtg7t9FvzGpUVbM9rX0f3Y43/4zBf6hnuOXRu94bASCIXmeSi+WW7pp0CJq5QatrbKab5gh8x8sWwN+gHZWqgvD3UG7nrwq1AzcO/Y2En9tkM3tVauvPteJYoiCGBmqXQ8jTOG/jZbIVdzeZ0VgXjrxLl2h/PAzd3hhc1rlzd7jw8P9BjXYzMxJFHT1bKUTVwdwx//2FRqAzabnJ297W0cjZXff/YFqxOfyihqet6KVZobHUuRRC5fvbm3LwjrV94+dfXUuVGhuv2wp99VpOoZMS1ulvyhgpwuTClHbob4Alu44hwaLuQFReIJE6PBDA4DDjdq54BsVgvH86XylN20sM2dzKytxuYzZgxeXlrEcjf6+xGOKmBer4eGaFxIZliXDWQdldjqPGMNBLzVZGyZQ0h3JyPH62AhSze6e5qxwpUZrztoHBr4x1MTjebgiL3xravJrKQ2BSlIL74wOk+73e3eYCoZx50Bh31QE9dlWaomAEXMsha2COiyVnRxut3tvDTPiYoDBbNWE9Bl9sJN3e7BdkhMj09c2Ll9+w9++dLvn/w2hKREh7W3cmpys3340WMP/efnv3C8x6J7veeuJlwO0OqQl9cSkwuVkZEmj0OknN7LS9hSfGy7O4dXkXgNygCqRa4KJNLe7RPN8PX1tcGA36vlpTqRgr1tAx33NTDnf/sXgejfSJCOViZRqHqsaJCunL6wcG5mseA22G9uuG2PDU/N52YW+A1tU+9aZ7h85hnrMNfe1B2ZGWP9QR+LcBZCq9QAuKoSJMyYCRY0WjUPW63xUq6MprN5wiQd2NecS6QTE9E2UvUE4Y5tVpcHysWKdLnWPTIcnpmEcO/QiOXs6TEFQnfubVi/NoabrYBckMASh3tr+Yy9jasjYm71nZ7BppGP7Pt///165sLKHTuOpHn3bGxdyyVNiG246cD12dkaZej26eXkak478Pc/PL59V9epy6smoxHVsFp9JMnzAXu8C9UnQ6Rs4CweAwiUaxMXKZgr2fubWn3Xzr7htdgqJQBKW+R6WMAYoseZejc66cSwnp6es89eOz7YVdfw0VFSB50376wtrK5ltObMWk7N3jh67/1MAJ2+9MJ8HO2wNttxzYDWC1U+up63VYp1QBYIh6TIPkQlbEZ7r+PixCw5/2PyaFeymKDUfGIrcnU6H3DUWgZdDR4Lma2snLlcXM3OJ20zAsv4MEv9reZ2IhDcS5XiVjsgoiaTJrV2NuSqConhDCwDSh2EWI4GOBPfbuExqZrM0nJaATbGbtor+XtxisWrlXoxXYbqQLfHem1T1uBE53Eud3UONXSYaJ3gSznFYjayUn6lKLoIWVWxrJ9USlU4jWQDPjh744Zvc+FHP/74P8y9M/+60gNfdjs6v3qx3tZvZtGcg/WrdUu8Bnqad05cfKZYSKp4h4FmVK2GAmI49JLbu+Mi324x0K3V7OpSparDSlt7sNs68968hbIQaGl8Ot880CmpPATgklOtLieCZlP7Cyfevv94+0KRJb1718Lzalb0OeE6Vi3zVAUwlXNls7453Hcgtll/egOxdPb40uPx+TGoscPZQOcrq4ihqqFqKV9QJYnEgDqo5GqFnMdwDyy5Xrjhyv5xYelGYeOsDsQ4rxiDwVwit3bh8tLps8VodjEJmYzi3YdtneAYqCTbb7qrnEZAie/d3cQSsiQRfi/r8tlwFUFVnoIElU+qssDRhIGVm5z1BksmeXUuW1UxSuboYr0aMXEkQVowECkaipa85oSB/SNtv/3r+ziwcfD+wfVzr/BV1OU1yKVyLVtX0arNZCzJ3I351W12nC8ETZgtJ6ArkfJPjjg2Gk6en78hr5F/+MBBGA/+c7aoQCUfWXJZmrORVW9zW53tW5g91drM1WtaQdKbOofOnFj1GfrnbDrdRbpUbuGGhIqreGtzria4yPIr15MOq91t2orXrNCyoYnXNz646/rJN8Ks/ZDTAy0vjlqINMiaE7xe5fM+xj21Zsnnyl1NENTaOLcUBePLtznMhTJGtcnD3fGNyesLc4qdATi4noNsskryBZ6v62nRxUlEw4vvtOPwSxXw2b9mfNmCWM6WKjOZ0KXC8oXc1Ft0ZZEyI4gTu/0m9Mh+SyG1fm16pamvx2HvjS9MGI2S6m7yWZq1ZJxyol0ejqhHVS2BoQDFUBCMipUaBEIIgTgM6vY7nbTPcH1eR0XU3eYproUQDM+UeR8dHn6k+9D2p0kcPn5fcy2eyiZB1bMdL7yjGRwVASWBTcJq1jO12dnYkAdjFajA1zKQQu06zlSiL3zxsSN7eu7/ytM/u/rq9V/9ml5ZeWj7Xp2wbikNtdoYr6UDDGRDiXpJR8j2hYTQ4i43+/a+Nc+MvXjpiH9vlHZUKc4LWdJXoUgY8g+3RJbGEuuJoQHnSmnYByXBJ//fvVP7/qP2zJNezuzAPKfGJ70ekqVVkXS5Bo6reYnfuDGyrduEQ2U9FTJhqARUCxGuvHVw2FE0d705vWQMRSlNNnu8VREpVCAaqMoKrCN1gyaV35+xR7NWDlz4yf/+902fwo3cf3/SmkhUrQ6jBiIYQWgw6HSZzAyV1bjkRi6ZiLXu7AvYO2eStWuvnLv/4zevZBRDTTUYYU0RUQzRC9erIt4/sLdeKyTTKRSvQlIC1DXEoCJI1aSrIRGuXYn1fPzuzMIZjMfrjKmjpb40xX/qiwtvv74tkTBVsoJAel0cXCjIKusrb4ltu/umV6bJap2DSMptWktbcBZ0eCyp6+OW2njvow/zSfy7z5757OP9LBc9e33NPFVvbW+3+1jcby7q7FZiqbw4sWvn9vjKdarp9oxGjS6cu7XxbvnKlRNRgtnfv4sp6Mn6VlTNr0fu//w9jz7+R7uH/eS9xNxyjwItgice2+ey9/9+54PZsTFk6XVUxQcbu8piRoOciVQi2N/dNdyaWr6BWf5/QXABGOdBKAD4d737z11yubgnbSN1t1m30vnG0MFgAwZD3gMGD9iDYWPsIUMG25h7262ruyRt08Y9uVzOXX+X933NlLpSkVg9oXkCKojj16dWwMmqvy4IGjKakMinFNxcg8JMJpNNTV7JLiTjOcUHYRdiwpIEiiwvixyMw/fdZl4boDMiabHTGAFgqKpoJsTmKy6EUgrYtO4WnVqsJENQnf/DF+d2795dQaIIz+sAFYAhBFIRg8Mb6P7eF+997s87cpGadC5mMfOAJuIQr2girRMYi/k/Lw3v3hkw1mqz14W2tg2D7xxqvmeNX14evMwKrgGEzaNQ1OLdOL2YgUrx+u5V5WTWaHJ/dH54U29XOqmV6RqPUUuNTTdaqrb1n3nrxlT1+if71tzGJSU8kPH2trAwdX36jLayTBZsN5a4b32tP6/mBdR0eSnrS1/XW7oXbf2Walgr4YM3YGd0wb/OIHs3rFybE7ildWtcTz32t92fv11HMkoVQ9wKiKA+HCw/4w4O/Pufz7z4wuLFM088+uAY3oaef6VcClvaHFTdugOba69duKrWd7q4OAgV4iqryjaEq1Zo1sLebDfxBS2YUV1KsRRfrt5cSKUnFyZWWEgFZVnNiIACqgAEwpLktyP7dhlNNGxx6hFUB1OIjiBkQBfOiXWNVkAFShm4pNE6R41Hvzy+Qoxctu3fR2RLiyhUA/NVlNHqbdRrr/79xTejOAa9+sfNacEJ8AsQBaGagAiKYoadBtTsaPu/b7z37X/cn8tMTh5daRpoTRYkJ62ksxESMsuQSRKioNYSAXutuWM5LvOdX44FSfy5F/cPX83W9fTPKoQxkbTTEGCjzg0ubvJlvW3r0xUkC6NyLCIX87V6sG7ralSH5mQmOX1FZidRVyeXoSEDjUpi8uaVhu5NUbjtWiS0hqSMkeLlifBKibmzf3uqR/fLH/26I3Jp+2dvmUe9a70lMC2BJ0ZOnn9v9J1XTxfSNxoMxDotF4ewUvsGb1dgEzb+q38MTeYFg339sXc3DV6bhGyNgI6XS6l8KNtZB3U0YbyGHBsWdLyqF3ITs6mYHoBD2cqidDKs8KxgxEEOJwiM3OSRgy7Bs8oUnZZpN2Lz6M0IpqCkBJFWGzw/JalWa0tD4/zsAsHohAoJ1/gcYPTD95LN/XsNwJymlRGU5tlSUbTs6hq5696jv/i+lWl5AiqP01YdIQsaIuJgoZooJJWky4GqkeZDZ4c/+731Excu1gXbEmEIIVQFVdWiIKsQYTAlZucNgc7rK9Vnnz4s8RwAAL+8s8u9/7bzc0oHwjN4RjQZyzLaXB/QCAbmRESlNVg2O0CK0hWrQOb0POEQKSFubbVxttpjIYW4dqa7D3DUbRnMWq5/+mmP1WuvbZHSsTjmCM+A1sHRuprpE/85iq+y2J947K8/u0pivK1u9UIRAPd19dU8cBdDGyKLUWD69Mz5mwFFcaJwoHfVDbb6zvCCqGowBNb21//vk/5k2VAWuTq9sakWmswuj1/NErxWH8ASySRtNva02CZGYmS58sonfD6edzebl+b4A330bFlzWkXGrIGIroahyxSmEwTKp8MRjBdUvUmHYODQNb6jf3NJnONElQbrZdFQJHJ6mZu9Arq62lWEhXMLYilVIfxBv6vHP3itsDM7edKsKwiKCCuiwQipuGrCcIODTvBpr91+5H+mA3c72oI1kyfH3e3WUrzAkLoUwGE8pkI6DqysXFxq3/qVu7/wU44VUED7+VNrSpGiDKOUbwOuZ2CdarZ4FTZrgUpJkQZw0IRX02BJKXGEZrN47LxDTMwur1vIQ+41Cp03rOpLZMND0SzlMHXT9Teuz/pkEPavGp2cavGY6voD25r3lDX1Ixqeq7/9aMfdF448x5dLspwE//TeR3NvvClKiD7YjHgMH/zyRy5BXAUBMQXeYcKeKkEc7G777e0PmbLTZ2ZW+8u4ninASqlSGrBQvlpnkk8XK+X+zq5cjv3ff1zuQeDVuzZ86wcf7q1B2gdM//XHxOMP10YqxVoUcAbpKm83WDiKxGSZ5CXeZhc1jeFUwuqnxkZTed6xZqC+Upytcl1cvKqRxUCj/frVxcRUcmDf1oXBE809vQaza2ZkPJmFDVrU4wNEkrBgigywslgi8KpQKSBVjEPAtF7sNjGvPr3y5V/vyBUxVi466HIhQpQpNyHPazSaikK2eOaTELypxnfm8GkEUE4kgHY71NyjKxq2Wd0OwMA4FEFnoK1W2mdGIcrIIzKDCThh4SUFFaMymFRAnwr7lkcXMlLWKs+R5n6O9LHFSQhWKGdnLFoYXYZ2B2k+c/XnB5c9yPTDZ0KfsMgpgNlC4o+/+vRdz4czg0fAz+3e0b1h+xKso/OxoXdfq1nd4O/rGD04HZ4epw2G+o2rbX0YFVkEInF9A4q5jBYaa7ZpKKI/MVeoFIr9Hp3JZDhy6Ho4qX75Lrulfe2vnv0Ag6CNjTiIoM++XLhlnbuhlU/NiYFuNycyclWsDaqEHsrHWMDgQdE0AnAsZTVSxuMfhdt2PiDzCSU3zRt9TnPH8syiJ2D4+A/v3/ed3THC6Af0VwcvSgBvJlmFNhmtTZQawdQxxuykiQqmJyGYgCoyQTA5MSngIpfgT/x59rZHOyWVr+T1olyxFqsF2pNUyjpIjaQyZ1cII9r4yMTHr49Xs6ImUTBbZ/a2dDqcboOikQYbw2CcgkoQZ1dVAJEgQNE0EYOQgmIa0CnYteEM5pN31LkavKMLiaXxnNMKN7kCy9l8Tk5Tpn6GzyxdG7zJW4hcbJ2vxbpq22QodnPikqBkaq+dQQss8sUHwTdeffffE9d2oszpMydsAX1DY3N6rphWlrWyGpJ0TofqE8M4gfSswq0eAqScS/lqMpUkBPm2VpOhhrwwPD82k9/VZ27vW700F33hN4N9LbTDSRXKuA1h37hByzPJL/+kdfj4gsdr9rdYoksyTlTsHS42KqKqWKasCKBqUoE36TERj56J4bd9WSiL3bh66LJCIyEbPY303HPl8OS6AxvOPfPThvW1ZkejkRAVsJwvVcRsGII4ClYNOggtaiCiL+lkVc4adVZB5UxuIxtTr326eOtDbbgunOG54jIqpHUhAJexLE+pNab26utD3HgKApQsjUQ8etS/2oNpsAlzMiRBGmjK5rAwEAPJKAODoCwoIJxnLEaTxTty7ogtodk7NySKgwVJAcCA3stUioVYtqhnjCTsmY8mOsTxWcU8HAb2rbZjiHFpaBEk8ymosejsTn/wYxbiatd+A/zSl7bdV3//M2+81rHXa8D85URVhosuS75cAaenSg4XHmwCaKVcEEo6UjWjpqAHp2usEKkfunI8Ol7qaaE339GXCJX//e48Hyvt3m2XQIbPFSA9CWWK4Qp++K34V7/ph4zA2LHijs+0LgNJ+Z30pqe3j4yHfKhaEeAsbKEUKi1WqXr74tlknQtLWtYsHHm9q9VJNwdba3qHL02+8+OXbQZy4+9/r/DXZY4kADVbiALV2YaAi2bwSn7STMESgSpchYYhXkFUEUQQLpoqI046dKpy8XDqB481Wvau+cVHZ5nz5R1WjG9xzJH28EvnvZy4XJXDIKj5za7+zR6SxrUMhOkMOtVCVxG6tgIF9SprNUJGEoRpSNVB0US8vLDUWO8HzHWDedmtVEqLc7DZrSlGUgdSeqzIwsvRUr2Wv5mOF0X9vlV945lCLFPyYhqCwjaUufDJ8GJiOHDgi9ZcCvzkL3/679+/d+cXNuKVVJETQJSSyilfkzUSz1pgeX42o1jkgUbJpoMyOFjIq0qp2ApWwlnetk63ob9D49D3X7l6MwLePUB6a7BYEuFYEYZUE4XMTlYNPstf/m/pzjZz0+dco0ejMFDY+MRDb/zm2EZLpf6+1usXFZ+L5lQBwuySJFfECqc3Tr5ydtV6Sly7dr21kRtd+d7Lw30MfPvVBeo/r1yJx+DMlQIH8Xleb0Hrgzaery7NDDoptqWbhnRWBJA4TsMQvQprZZ43YgaZKxlt4uAF8bGnLgEq1Bow7TeWKJQ4mTWF4tH7GFjUgXk3pgTqIUe3uZqiCRUzMCgIaQDAUKyOlgjUxxmCLF+oqBVAhvSSZmLKegeZSccNmlwIZSMs4Fl9h8oDNJCswmS1bK1kUgSaW4nlBL3Vqe8eiyV9wg2/huecjVmgPjWXgOfeYrqaKvBmJH8a/Fz//prP73JEr86shBvW3blw4eOmVY5iwSKqFbspVi0Uwgs5a13AgqdNSKprlXGpgoxB6v56s1ByjR8eff9mbPtGZtfWQDqRnFwUDTBuQDWIAYQSGYsLPhNz+Fh4+mriO3/aceHSBJItem9zfe+Lc4Ci/vH7LtrhT1cAwomIrMoKnKYZahkb7XCbfC3DJd2/f/qcrpK987+f7m1rGf3Jjzx93quc7G1dAxTi0USszmZmvF2x2WNlOUGAGqNW+EpZQmEEI0VRRhRW1aBKlQMhLJkWyiXt+IjMZvi3Xah2T80TZzJIUvmBj5LcVNLAFG0uM2bFZAHCNRCDMUUkcEjGnVyhYDGW9WiJImwcUctCywZIzoc01GwgXTo9ig5dHXXYdbSpLp+BSQLQKInNY3w2gunYXM5Q1XikAiuqu8TOgmze3tzG4s3CUppfOR3S4KZ1Dy4fP1zX40eY2xvqLMmhT64FH/p2/uyZQBNImGzxhAwpWV0DRQBFvNl5fSrv3d5cVox/fXFk/4H6Abvrw8Px2KUTSAD/8Q96aFoYvhzKJYDGoEECAQpBihwpcAWskgc8Wsumlo9OR0vnFniUJmdyqVLy+Jtdk4eiS4yz3Uj7Ah6Npaq00e2y1WCGC5fyH+KBhae+tYtQf/u9+7HVaxOh4TM3Ri6K+MMStHHHzlOHrjhNpfVb1iYSuRMfvNPU6+rxNuRX5qMCNNC7ShZVBMnjqFUWJVCpSqBO4ZRyeorB8W982VXNkEPfPg68tGyqNX3lTr+8kh21m2w17WtwEgQrMqwDIFFUcVCUMExFyXyKZ0qsZmtypReHHF4PBdOh9HVPe53H7Jm8cuNarLx2ba+oSnxFwpCoIvDxLFPMMB53IFWUIDlFAek8x6SK0zv6DIhvy8kpHBtfYiOXw7Rjzd6HSwc/8rnUkGIBX3nx8dSS88r8uf/+7lefefypA794gpsqLocGKbev2VSKswhNQXBp+s33l/beO9Cxbv0b//6XJ1E1Ow1t+yxuq35xIRReEmw0Y3EbuWwelMUyoKASU0zmDQ7a1No0+q+zv3s386QexB7dJ2fyHTuak+BCg88+FlJItJzkdaRMyyI6f/XMYliqbzYZOzZ6nO1OTU3FZwqsyDptbVi0BNS/+s/Ln3+yl12ZYwh/yYBpyZl0qahJTGtdmyRdV4tTJpsBI+lcoaoKkgqCgCpXiqzMiYzdQrvrJkemx343sVEB3RQKfKvvb+8vHujTAR4Gtq916BCYYjmZQktRzF2bmJhz1FrzM4v+7TvO/Ou9zlvWG4jSytiS0Wbydm8qVJbfev7j/lsCnUFHqlipFgBF5REIns2aIdVi11iQnpcqpYtXdbCTYHC8vsF3c3YhP8/DWUdakTYP0CZP+0gEuHHibzV3PPo1iEcqIHHkyvQ3f3TrqUMfWXtaLDx6euG6t9lKAVxR9DFMpcJfT2VKjz/ZMj6U+Pi5vwzsDdKoGqxRo5Hi3FgagWC/3qhzkfloNF3Ce1rN1byopQt2nx7A4ZF/n55eVu4zITQOtpkWL1k2XJ8egRgkOTZtNsPxaBbX5IUcgItI7+6u2xsUhc3El+bGDnP0/p1Xk1LQaXao0EpK17/eX9t1841/H/vW9x5n89LkR+9irfpV/Vug9Oxr54Y3tLptWKoSLygEQuMEboJhhARkocZtoKxdbHLy7BtX4lHty5+1xselowvSXTVYfRc6PJdZv7oWUssEzbAlkTbSJK7gZqokl2XrBnH4ip4E3O3W+Ni4fcBn91kBQ+3Nj84kNeCBR7uLS5G00CUUzoqEnoAtyaSEkya8mkxzH3/7W2kUBX7+TVMq2U4EWqdH5k06vaATmjuNta3dh65cSA8nukqZvjX2dFNwzyPfhFaWoGC91Q7Jrx1K7d6xbSE0G1nRfDXNvIxYrWQps5JaRnWm5qziQ9xCQwOEpqOlYuXg5Uw6iekwvd9BAmapUhEFgNy8rzXy0azBTU6G2GxWmh3LglZ0y87mrq/Vn0DBVDpaj15wM0ydEa1ps8Feq3Xn9tpez6NPerc8dWuWtE9Py4lF1NK5IcolucTibRv8qFqNhHi9Z020ILu9ytbWprGJ9PjMuK2RYWAvmwOiJbHRkQtHI1Wkp4QROhzWm40YRmCqCIFEKmM59/LH7/xykIb42+7tF2qaM1sMYRoozBb6P9POCloikdfbEUzJWyxCiecrFQglVItB0BHVskJVi0stPY3hBS6WowVdU+jsp4inPNDG46Cq9/rOnzin6HxWnCyXizhDOcGkCo4//9eKrGg8p751rALZqNzyKF6N6YX0nnUD4ULtb577j1kGdm7xlYFlIRr4ktWEWCGknCG6VhcPfiI0NHjNZPL0PGq1OAqlisPORNLR5eVEXX3Q6fYtz4/mUTfjr1YTBTJb2tLoL+ermIsVUEZhdVqVt1qZpZvXPvt+/tHczUe+3X3heNbqRlFBJ6NwVlvb2pHN5GG9XtF56WKZ1bi8hhBCPvruv5b8XmjL5/BOnSMDN1ZzPMYlt97ue/v1i499/4swwbtrQLUU/uDY+Mbbd3oR+vAH71vqTbVd/aSo3Lh4GvbXru0NSkLh4tAYVJVhR4bn+VK1KpT4xEKpPFWxEcDObT6ko4sXRAwzYCmmthNPxErdVHf7Tn9lPFpta0DYis/ly2ZDAk6DEsdCVq+ahQymyLQcDGa238kcfe3tDY9scHb49LSGEdpyWCKsyI4mOJyvaGYbBqOImipKcixd+8avhR/9ambnFiiFrC6vVMwWDrEapxe1D09/0lHX8cQDO4ej2sjlm44W4/buA9+956v/99sHIXtTjC/Wh8KTWzaB4yHr1SvX933WJ4chlHBePjWyesMWozMYiS3gKGfkWLM+mIf1eFAfqUqAA5BwvZTF5GhcwsVCTs0Xqcc+Q92zEVma1WDKhGk2DDUzZjsNJgw1PsDsEgpqNpsw6UkapBjS0uCiv/b8ndYD/TdGpVKVIg2GqqjmloqNQUdtnf3gK0fcrbjN7wmNJcwOh48wTq0kUNzkd3VwKX02GjH4Wq0qqMhQuEKhYt7KiKyMZng9DNkh0NThoz6z377xS83Vxq54OY8reVmueNqsBqdcRlQuX2xpqtUHUUwss1lWQkib2cRCYH5pSRd0R29eXLe1KRSX5sfnzXWrLHYzKQoADkE8lizbTFaKKIVkJ+JG+VLUhOJypRKjsXTfGtPvT/fd90gTTzRllkjGIEp6HR8iGwLee772KNFsOHLhqlONb23QxcOBozy8qpMKTaiQHl41PTxe1+QtlXWTs5X2Wspi7frRC+8999dPH/vaThkoV5OLkKAJupqmhgCbl9JZRgQoI1GGVJALYwqfB9o9JludzlKrwp47tvpvVCw5gLDTLlU1SXqzIrOEXhM0WgZBW5MOEJSFTFUxNcklLRlPL2XirUbM77eML6crRd7WtmqkZEmEM/ffuXNlIZtdhkNLc0RN/eZm+4kLlyFADdZ7InnNpC/NRsteX6PZbBq7ml2eSvma+wC6RgapEgBJsEYbdYirRvDU5lBnqZSgFVUGVMBhF0W53q26fUgpXsJpyWPUQ7hZRErxpRkQhettaDJT5PIKyPhAgLDAI8fPhiHIhjAWIV7RQKuGOig1pshhifDCAgTXrqlUbhSXL7TW+c0W18Wr03e2xzjBTkpYQ2NV1BQxJtDBtoVs89ixIy1kYfX27tGqMHgdWLNhPXfwj9a1DGc0gj/5zpeisLcdyRRgbjau29Gsy+nR3zz9ykP37H7oVvr0SFFPgDgpGozGQm6lIhZgwclLiSZfWZQZRZNIlx/nK3w0MpkUOptbSqlSCZJMMqzDkaqqiqDOYMQLqRwLgWwi73CTpgBSWuEyLGL10ShuwFVFb4Z4iU7ksdRCrK6lX+8JfnJ1ymNFex01f/z7MWbN2vta5eHZQhI2uip5tFbn0eiizNcHDcvTGQEWU6V8V8DNiUKmIJDqLFBNpoSiW4dZSLoKEKDE2oycghqrkKmazBn0FYRgeRZQYA8MVhmzWWXzhWJZR9n0RoqVCAMNlGOZMtVqV0chh1fN8wiUHs2YHfmyZ8CZTxcYSE4qFjudxama63OLdeaUVScPx3UCutbCjhXZoqwSGKIW80heAPI5KRcutXav9zD6E1FSElcO9Fnm5jSrMXj89FuONd215Fookq9xI5EU6Ygu2xtMaqpcjcykHn1g7223NR+fT9CUTQ+DVicCytW8IJkAWW8xRlI5FdVXYEjRw3xmfnmiOMN7eupNRjtU4DmgJOlt5oIGQTRFkkq2oAAk6LMLuK0hmaU0qWx0IQEPpOpIFM9L4lK5okAY47NRcGvjlYmR9MT8vs5OXoXHU8ttPRuwlem5DJqHjb00fvxKaNvAqks3I0/99A3c4EhktdkIP9DkL/OqKFJGC8jrHNmSnhCJsoyBOlziMrzKS5QFIxggGwa0YlnQIFBvtJhwMMMXi1WuDCiIomgK1WigeK/Xuzyfw9w6XF4oaj6VA1VIlXiksavv+liSsbgLlTKE2nQkiNO28EzESWUrijJZ8XY3btCWz+SEqs5gMetgVQVxA+jUY4xORzR0HTt9cWJh6N7a2Yfbt/79jC7ZWnPi/KE7u+ztaP3EjROQCTjW2zlgyqTTcBUy2xP5siyoIMEcOTZCqD5KTMMeOFmBstkKWlHyYG22kvTVuMMLCZjxcFVDagZjrc4OP04b0HMzFSMBESjMYRYUIbUyW1YZSM5wAEhZemzUAqullpdRxOSlnbRJKoOoABmtbEXkUgkVlHvcmLO361+TkYMfDzXivnzZSFq1QIC4eLPkR8QUyCNGAJLRF//1Gl+IXj55ibZDO/p9S6FqlpUZjKuz2ShOXhF1sN4C8nAyzcEkaNJp+RiWisfNXokxsQgiqRIMISqBVWEUEMp8pay2r+0hgKnjH1yidQWfx1iOsnqTDZEAUUMR0sVzqhefs9ndU1fHA26qhMJGREvPzIrmEIgqrfUbvCbPi88eDNphnYHQFF4FebNBh8qgACM+g84qy/sfvHU0jf/premLh1/5QV9rHWYbrOSu4K54bGTPHfeBf3/24rd+9Rwsjr7/6oP/eiXd0euYmK143agBK5kNsMIoOgAqJliRy6A2vCyVGSdiFM1KYo6VAAREEQtthBE9AY0osFnW6jAyVlRLFbi2G88tFUUFxDGONFoltmKFplMgU4b7lfSg1Q7ToIiYnYy5IVrSsukKwmlWg97sq1Uo2weXJ1ML5Z46pwZBogAWCxWumve1rL746Zmvfm7P7147tmd9V5efujhf7vEwPIJ4bVi+tHLw6GCblWxuC0aSY8V0SuLE5kaaIrTlFZ6xUCpYtOlAgkYr2SqPwFaLITGTal7vf+2fY3etU5murlvuOvnk/caBXVtllhL5HEkaeaFEUuYKVyaJFGbd9PqPXn/kD9/Knn2foJUVWu2useKQ//jro+Pj6c993TcuK06YAXMZAcZLVZFEKZnXEiVFp2sNzadWdzRHOeytD0f3JsamYkvbHts5E2j/+AqMLZ4DTfp7yuxhEMS+88VfCabpfBwK1muh5UhDQzOOFwgAKBYzMldG/LTBDHtQWFBQaCmbn0/CoA5rsKAWFK3AYZ4kaKnbaU/EuVy5qtcLbW3YjRmxlOHcNSZEycjpOBQ0uOvW3/j4lNejVY0UimlKAirxNo8DrhJcNp9bSbhKBVedHfU2NC4tZicXZmE90mxrmk3GGQAQBUAmSRIHyuny/l2dl0ORFofH5KR5NjJzM6USalOrUeJVHASVysLc5IgeAUiGMBg0igJX4hlMEJ0NXh0ilqspAEDLPObUA/464b4nV+CI9NbhHTdOzbhXtd84MdO7Y182OY+jIAgoVUmliCYhHwGD9uU3JzlLMtBrUWWptXlT+OL8J0dumjtdu3e7BCGCCObpm3kDmjEEvUXZlQjNERBI2Tpzibyor1EmtGxSbv/KvvfOPJd8/tgeB9naud9ds+vcnaOgybhK4BJO3PH9X+47+sl8XUtjoVJ20CSIK3pMkdV8TMwN+DhHrSkTrfBhvjKSxkQB8/p1rW3JVNLTZV3JoBpfqrFgBjp4dWGwM4h57etff++TnXfVx29MoAwsi4rNKYm0qzR9c3JGC27bUG+RquWYRDGEoEgy63B7EEMbp5F8kV2I0cvRlMXk0jhx+OYNjgPW9DWGwqloXNrWaRheIeo9oAJZPAxstmGCwGUzIkkjkhqvM+vcdsvHZy8W8snOdovGRpORrM1jobWM2cySRjIVIVkp09RjKaxUeQVREcWJIYqRvnhwbv8jTRc+LNZv2FhYHjdbmRIA4GQHyLESoMJ8Nhka06wIBTXkp4f7vv5gKZlb+OfBUYXYemt9SytTiC/MxG2xsVhfF+RorBsKAdDwNF1jgD1t6WgxC/qpxThP4HbvqvTFMx9moo/91/2HJ+jYr/7Sypdug24Dn/nNX9Yuzjx+/ApJO+77/ObrZ4ZsPr+GVPVmiAYKmVTB4mNsKhs6uyzwagEmaFRPMj7Ab/OsNcevhKyugJ0oK1I1UBe4dHmOoNj79/d/9wevfnp+6tTLd/AgHAqzEJCFbKvp1DUVT+nqa88dR4xmo99XdDiqeVTLsXpprspmMYtrDVETyGiYGYUiK0mhVMEE+tCl0ws35h/93pNXBwfdjGo0tioU6CB1jAEu8zwlQxws+fRcY4ttfJl77/iZbc0Gt8GkQUkYL1Zz2fmpks2ntnfCgkyL6VSuwNM2r81MimxIRUzFLN3dLkxcjS1WfFvWO4eP3Wjd2ZePaO6aYPTqdcZfWxYzRTbS18NAGLrIO8mFxQ/+PJw3MavbrbvvbZQL0pWRBRl01Sh8zWqzoICf3ig2SECWBOtcYKbYspBM2Ax+PmNi7XqLUf/pK89/ZefGG6GuIjtS7LPEneuCPzkNPv3QB6eGnqun8bTZavTAGE4oZRD3mClGKIUzZkwsJZZCaYCtIk4Gb6x1OesaS7J24+rQvv/55tibB61oXe1qIhFL1zrAU0P5dW3Gpjrqz69etJP015+658Th/+AEytCGSiiZ40JNe1ehDHTx31dzimHrHbsr6REFUp0GA0eR1axwY16/vMLW0Sa9jtScfgAkb8wPt5DUT//nDxAAPP3sTy8NRfvaKBXUYToniiyDQA0r5rsaJb2hdvBmwSDeXNXbkM4VBRyWcgWtMM1yYQokWUXW63AjKRPGLEXiSxMo3eiwYXmhLKooJkpSnUk5f7HcvHkNkpmZi4oOz8OF8JBrFZjL824Ugo2toaj51Zf+xtbQ8KElvCz+5mhnkW5Lzi2FF0qru5okGUyUZj02z+yi4KeQUL7a2mzkVf2Hn6bb1x5gZxdwONXat/PX7x7srIc6fPdcPPhxf4e1mFbyZWVsTRjctuu2dXt3Lx88WKEZDnDp+TwKYxaGKi5dKpKWZDYtgULz2m1ulIDYUiYbr7t9pwJULv/z2Jee+9Hg6cv9ODaJoDpdElEsuKpppSxS29xpy4Agcuby1Vob7vW7Q0uZijJX21nLTqPT01fa728HloSh8ZK5vsOr5hmgULa4rG4jCjvyBSA8VxgKsVBW8fuYz+zfuuXOJ9ILs6Cmbd2xva5thwxxtWZQBJ0qCOvEvKvFlckDbCW1pkbM6cyFVKHLKmVz0eFIShW4ZjvrtLCcCN24makxsr5VFtwQLMXCYjqpCzgQiAHZvKBRoF4zFZKz85x57e1CaGTh4kLLxi73pq+enjqT+cPHCU4fSomNcvrerwZyLXt++NiLr/xzYH4xSgEWf7dj6vwMiHDN61ZXylBqabFSpuq67FBZOjcDrm1p/OTYtMXv7+ltGjo1Gc/GDuzZ/fqlxTZTvkI4UcxWSY4bk2nwwvVzL/zvG3TAK2ZlYOpKZWEoznFZBEUxysuYbD5rkXKQJL06gFkbWt965dPNd693BgPXXvrEuLa7s83DzRWWJdZCcgRp8OnFIkssJ6K37ug9cvAYAvJ9m9vZbCafn3GYiHTWuTh3rXONj2pF87nkzWuoHhbqvHaF4QkFDEca8ipSV2NFmMY8X50+fuLk4fH58LQosqqmwAja2Nk30NGMuUy4hAOYHZSppuaKXqZUjYiIAEyV25gCoDEfjC7rpaUNLsxgM2cRTubmTFA5GSvnWbW1NaCVE9YmvBCvQjykMl4UZXUgmy2IjN2UXYiX8rLTbxw/u1yowrNj8sSKHLAb7A51LQi1KKTycP/vr8Z8PVvWyKdMJEya/bHZKW+n3W+js0Xz4KVxl8NsdukoDVzIogqgo0h3anlWwWnEvCaTHnHDHGDok4qLK8vRrg17Lpy77AhAFoyEvvGl/+mwyZmFlZnzH16buzHPcZtB9UEK6L/nUcjstza019dbQFksQ0bKZbFbLdlQmWFoS1dT5Nyc3UEXsLQDqqKKB9VgjakjTYYam/Wvf/+0Y3Xvnv1blmcz567nzEacBbwrmXjPvgaCEfPnUmXFsm3AZq3kkpFyWVu9mDEjaMWPVdmF6bOHLlz8eErTgbKwoqiSBmgIjOgoRsLs4ZVyKWqKZpFC6E1LMGIy2ZcKC1G5WueEjRR5M4Zenpw+sErds2tVyhuYgSuIWkaLRHGFc/p0Axsarl1NLxZUtQICFo+E4katwOXBKsdYDHgmnVVJCJHYk1MJWxD89NPC5Gzprwr3tA/83AvPvM2BFyjzUtXVBhKruTlBM7GIMZss16yqAXA6nHCODM4EAi6C0UM6Jl8GBIE0OJpHR2eDzY2d3f3v/P2jLKfVDawLJ2PlXNXR0DofFTBwWodrImgFP/7w0OunRvPDV6p8khCFrsaW6dMXWhlC+eJXrlxZqK3RtTugbFxiIayj18MmSxfOx3c+0KqzOA/+4s3137iHEJbospzm23yuvAxUEF4bmowPrLK5/S6+mjl15PxKOrZ/W6ch4MCgVPLG0qhk9tVoZg2SQADSlbJhQVxkrI4ac31Z1ukOpVxYQoULfCEX89rJdDiXTxXn5mczJR7VINpg1SMy3fXgti34iz/8XaaYf+FXT2RYMI85nVjOapIIl3s8FmN4qdmSr6pyeDaRAosBG+ivUchyuRiWQwVV4bD+fW6hEilmyjU2eiVs5OWUySYYMb3F6eMA9+Xxeb+8MvaTcC2nEggS6a43fu6etw9eb2xyGSgEBAsBRlQ1I0qDRj0qqtRsbFJH2SgFspug2pZVJy7FaZSQpHI1WzZ3dsjlanQ0VMgjRG0gYKxeurK4/3NfeOlPL3auszBCrULD4N69T4PRt6CGvbUWyoKueBt7XnrhfVCTdz24M54kRFZwN2mkhnFpnqq12P22pZMXJNTQ8+DeydfPFJaLa79zd+bIgqOhmIR5MwddD6Prm6FAnS+Tjh89OGQNWHevcw4tprw4Njp83ulH1vcHlznze5/cXNtK1/asmp2ehCYKZhXX/L0zetgl50DQGJJQtKJiJZEFCUFNTi1k4otxNbsE5BIYr/AQWWl5MH7tRV7VGH3g29+8hdLpVFpfQiQjWtnk8s2kq0OpeXe62G2aMzYZ40xtbimiza941+Mem+/9j5aYfGzfV+vHMvnQfPU2P4Ei5qjcNDY5ER4qKrISaDUBen/Qkjr87Gi+oLbSmLJ5leDZmkve8NfX6fAKgiiUZsSdPFjV4mEBt6mkCJtsUMfqu/Ye+OFvn3tEK8wmS2aC0msYc/PTawP39iII/O/fnDJ6At0bm03V0msfvXfP7bszMsVAaSjYdnnf97/Z3rYeptM5DUws5Vb31IGMcSldhACZtjngEkjjosVtFFPlfK5U1z+Qi2Pp+aRv27rZiRkklpimMwQW0wmuhSm0p75Y29a0OD3/ymtX2te0b1xfS2FyPKkdPTk6sLm+59Y952cKl/9y/L71fgnxnT+dACWXtZFQA8BirGIahA3LCqJKOpXAAQAhIMYoEqTdi3hNxnZH7U6A1m/EoO+B2gP50xDhNzM9P3jxjwslMCUkUL28xu5A1IYfHpmYLIf3+Mxgpzy0pvaqWAdevUDEI94dNlxPLJeKPW1qTII/eTnfoLQO2Dp/dwL8+1n8hddmQzHUtMk3cIfT3Rk060zDsc7eL2/WeQ3vK+Tx66GsAunQunw5B4AeLUfLJJvOEgtJHQsTaILXcHPd6m233P21WHgOWRp0tewbW4F0aBrVDKrRA3Cl8ZvZgf56MyIEDbr3P/w40NdTVgkzJcxEYWj/pg3n3jPn5t4lcNUItoJqjdnZTQNmk78vND6qN4gYTZY1GsQxPUlxyzG9jlzVIL3+m5+RzUymruXNH/9w33qgjK6NjFSQGtXRNHDurcFnX5navrtv9RobqOLPvrRkg6hvPbHGTgOHPowdGdf6Hu9wOFCuUoqFSnAFlnSdKdhPSnkFlzXUHxVNqFB2YrKMggbKSUsAZDBaTAomT2z88f8da/rsM4IaLZRf+uvPfnzqH9dP/KvJj9MOfW589sO3LoZm575+/26VsJ4cWwwYNK++sSzNJXUeb0/QjvPVWHnskyXGAj/5v08uBU2fuffw8Avzdx74/RKsPbTf8Plb8W11eAHGTg1HpksVL1gtR7Wm7Z0Guz5aVI59+Fa1tkdfNS8uhmUsFeftfBzkFsJgNQ8FraZm/8F3Dz757QOP/9f9po6dJ//2XvtqL6f5x69NrV1l1uS66ydnaztr+ntaXvjLyw1r2tbZmuKFQjqDIHAR7F393dZA0r1+Az91WW+pKWdxxapwR493PP75Tz+6SRXKWx4eKCwuWB1YSXEgGpnjxb13bsxExj96/Y1vPPXsrz//7z8c/eqexw4PMHPdu9YdeflKlY385GdfgNXkyERiYTa5+9Z+E5Oej+TO35R2qGOd21vHSeefTpzahtBNdv35ayIT3FyLVEviopnRUpyO1XQ6mlarKYveMlswOkzY2ODhAqf43SZEd8vpCxc0cFGycnies1Sgbz2x51SIy6dLXY0Wc9ATyxquvPn6rWvF5l2dV6c4bCHjtU7rvc0wnphYzqTT6ratdgxgRo8uZWL5u364/fXXri+8MfPjv956bWZ2JFKyU5RHH/TVbA/FYyOReQtAgbJYUpS331ksFnMQgN33wCYvPKK2fH/wxII+e6Sh2+irr5WN1vHBUiWZu/OOGmdz4IWj45WFwl2djox1QEzdNJrQyJIhtbD4yGObnnrmOYdGf+bhe69NpUxaajmX8lmc4J9+8ytLZ9OZ9z9weNdIIKzlgazNnHnzzds3m0Y77j7yq1e++s3b+GwJwUAa0xltAZmLfv83fyRlotGHaXf++uzPvseQ5R1b16NOhzlz2de1LtjfX5g7Wsi4VNLc3qZhUqyUgwcXM/V+hbVyyvwSw9JtrZ0L81MhDNSs/cOfhpuZYl2/A4XZiwWsBTIThWWVci9ztN/QkCuMXj53obG1xWoMVDTy4j9/2/e1Lx9669Bdn1+rlo2nPvnk8QObYNX2TkykhcIAONu8Z8dQimeLyw1Q1YSWZCNpQtnJSEjl6c4mBwTLNy8vaYS2tkXH1Jn+8faFOh1VWOJW7dlWoUxLsUlsiVsJB731zTYbMFGGonNz6ciKx2y5dOzYcomFAfhr37/3zBuh7W3Judotfrvd4dQpkTLLFjp627OhpdhsuXFHl9FqGb0wc2E0+fW7ezSY/vWLp5/9/q7TQ2deP7Tyo8/2TiaqpB6VRUDgZIwxgT/52Xvv/+vZ7Qf6+IhPwuYtpG6pYMkl+dZKYvNfvvHbr/2pq60zuKln6kZUxSbPfnwU1tgfPnR778Du6dzKH+bLwz/7Oak3TB/8zplrwqfzSr0doGhRA00mGqStAgYpYgm+OBrrrwVgp6aRgt9oOT6WX5w4e3tvu9PWsTA1Hs0Uo7GK3rUdMtg98LSAsiqpwWW/kpS61lqee/XtOmOzo6ld4qm55eFscvyRr37++MtHTk2k7/xMf/8a+59+91Jv+/btazaejSxPALGNYrQjGLycg0CwUl8HWLRkbCUtariPUYw4NDW54q2jjB1BG4y99fLxpqCztt05NDSbnar2ttWVzJ2TwApQ0MVjXmBluhoOE5ROctviUHCf/uy5g1OncqKq79UKFwkI/e3Tvajv7lMX4lWAv227oQoXId6VmxcBXPA460fn0/5OU346W5aYoAkyW9L/9ZdLX9naq3fTs0mA1IpGHMtCuBMRwK2rB578zh3vjzjbnZJJD0QUaUOg4/R/RpeP/W1Nd+CgqTZ08mBvTV3FEQisIfft6WIsfeduJs8fXuqpTO/fU3+ws+fIu0P1kaG+zRtkDssmCrjLb4QxBMyarER1pTxRTm0cMNOwTLDF9ELl1FTc0WS+5TbPLEdf/mDcWM3t6jVH9Y0fvlOCClTbgKGjno0USxdG+Ls3DHx681xsInxLX3NJH0zFYtXYZXHrPeKN+Tu7hCth9P13rm7ZGHzgW4+89+IrscGx3XvW1u/ednJidmV49pZaB29mBCCOVJOCLDKkoifgCih5PKTJ6qwkVkZOTeEB96pa49hCweKGoqnyzHC1x+lzte9KktDo2PXCctqBkqSvMStqRk6ei8RX0fkx3xeOjBSIwZ/98fvBp55ZMRPKfz+x1dbQfmK8ktOiNAzXewbsonhkMtJY66kx2s7Gwtnl0r2bm3778qeNOlNvvzKaCuiFKb2rZW7++t7dtx8+fRJ8+/U/vzSYutetS8DZRd6gZMDxT8ep0vUsW93XscH13A//cvv9TzzS5d7zwPWTYTY1ISiAgfHUtpgXUb00sdTDZI+mTFlOa2Zinpp1qXKGzyYwg9cY0OOLMc0kBlvrpIqYKKyEImUOrG7b4goScn5YGLoeQ+pd1jZ7qliphlMmRZibzwFFyWBoK+HOu75Q9965j9hDV9pab5lt3YTl552pC0BDQ6qw2SBfz8FarwXiweXnX6JQxP+9/1LKBnjy05nYaLZ5xwZXwJpZmTeBFRMAZMSMkWZhCJP1ukaTIGnU/PRiLlywtFldTloRCRCikfyKrFLTKnFlLArMoWxeDrQ2Glt9JEkk4hmdFCMUjdDQnK65WRp65u9nW/dutzZuXkuxU6Jw8NX3tzqrn334LsjUfqlULaTmeczfUIsC0VRlPMXZu1pb0U+GTheW5AO9zLFMm4uMm7DSVNjQts5+6aX/HL12HdzzjSe/ZjceLRAFUTYWljG1aGm81Y3msqjj0thMf6N1LlcpTF7v27JaZ/LnC2VIgJ2kaaZ4BfH7WFMDPnqtHUIv59ViLuT3MV5ffX6lnE3FeVrzNta73aZKKs2FuQqZCnT7m/xoeGYyHMKHF8trWi1tVlAoi+cyMMhW/Dhh96czIf7wGeau9bc28xd/Exu1V+TWzt0SC/BAtmKFnLABg8VyVRCM27TFf5rrGxocbW/8/ZVrOdOufbf1ecIFBZu4EoascqDZgRcUTpQshCAokE4nOIway5YXEmVVzFprPY0BF1QqsHEtKeRAAangWIMRi+RK788Ba2wbDRhQ5eemWbuFkg0iR6nVqNakBjThw1eLKfHOb//o4pFrEBH3dASY9rXHT78/+9H1BsvArk27vM3sSiGPecxXK2lLhcOvVM3OmimVLWZGfWYribtoJBnmzd5WBzh5c4SxzJ5nwef/+7vnq/k1Hr+hJGZdZsLcWkhmuKVpmzt46PVTm5og/4H9I4cWNH5h1c4+DrFmkyMVAO1pblSXT05zTZyuVkov2dFyIRONxHNr+/fkJFiYm9Eq03l/PwuYOpUpxIME692VRGV+dkaH1YCksG6rXgKJpVl2eiLpI1fs9WsTiFGITOuwDjAQuPTn5z+9cvEPjKn29Td++O45NHNib1eLka5fCRXzjGq3gi6hMhY2pFbvZt55cse+5qul1gtHZh02nbtR3+0g1NjYAlgvGT0eacyiJwsazqCcVEpzCEeoJZfXZzGQ1UQ0lcQSGtAeFAFjKwYQ507dlGKxtWt3Xkhxk3zBD7odlRwoL/J0R6rKm9f3khfev3Q5tf3A7hJfKKuCm2bZcAbDPDWbe+OEfP3kybnLSz6T7Y5tWyu5eUvPwDJsm745ssnK/f5Xr95+21ejbNbqzjjcnXIptzw6huHWVrJK71wHfu7Rb+zccfvEzDhjrMZLHmHmhr6YLXuta/yNh45HK/rs3v4aiuoYPnOCqPWvaYAVPVbIXBuZhroa9jr06UhhaaoadKuCiZcqCDR66ZM1B/al4IbMP38haeVszfaOrfUdDnBxpuglqjYXJBO4zeCaGB+PL0YozUU0qY6aYDrO6itj+mLvYEhlLHOOjcgrj70fIA0AuufuBzCgW/feGMmtLN7XZSWw4LlkCYxfW3/H3TffOhEmQaprs3nlk3paHovXyYWKySUr7o7lwZDFQdY78MtzN3r18RLGGI16xoTQBC8hOqXEl6oIZWeaas2QyF2+nlm4ehlur29r2z91ddlJhRDNOFPQjGBWNjVr8cg9X7rj5d//HMqL5o0PSwkM16dgfKVANdrUFJVj0RRPBYzMpnYBr1wcDM+eWV7ra0yPjnvsjTt//MBnd+8sltj7e20bv/4LRFP+c/pwjbmNqFMXkv7synKfwIL/+M/bqaH35mdZorvbGJ3UYG8l6DN4GiuLi/WlmSNhk8cHrVtfyy+Gjg2zrq0trbTCla7ShO9mpFXS1A5DElGikWI5adplKuTr9B+cf+7cPiv8rrm/mhNwE1VxOdpqsX6nblCow8liPRpdjnF+Ri+TAYEot1rn4nFzpqzIijEct63bTuqQ0gs/e+OL3+nNwDtOvjUUnzy8p71t1639YVvDc8evtWQj31hb+xbfoOES+/5zO77/raP/mfW365dhyloOYxI3kqpFi9y2jRbhyNtPn7ysAgiKYbv7+/p6zSqp13SSCcJUsYo5MTdNJRcmT04BBrBh3e2qlbRdOFrgSLdQ5VsMmt6Su6yrC9+o3HrXpv+5456DP7//rfFFruvx/OBpgy22foOxtKBFodoIaJXKKUN0XMiX/TWO5i4LY1/9+tnROq0YXeFOn/jYIlYPwPxRGLtUVEHY8qPdDx2fuZQ3NO69r9ro2P3B4BSoIwyB2rpf/OeZkX8OmXt0K4IZNSzB4Xx6tp1g8qus0uEbOWu7sbbb7b4a/nhepTts61YXboaCjrllWZlX3GsAuk7HTswtTsBW/clDR8NTy7/AwBWzLd79BbeNTytKVLE6A8t3eVJY0Xuu6PN4yokk1YRHmLby6HITl8J8RNmIis3dvpFjyb9fOL9+oNkSdCXnNcFVHmhGTn5YXb4yt9VFbv2Bftn8zV8/9dRfvntfLgK8HL3ZT2y0B2evDyq0HdGZ9MWKjUxNmwB2rBAKnDh1KMtPaziiu23tTmtXDWamqjrCpKESL2dtZGupvLSQoRucjVtahoZiudfO1m13uNuI83yb/7JgyYwjzeHzD37h9n/86sYLVz9EYNOZ8YNDf/j9XDyRc7Qu6MmHaqOeahJioWLQE9bXmtPAzEpamMbSuYUHvuxOwD0fHT0T/ujIgygOmNr+GJtL5+ZUAEIJxxe+9x2Pop06zrvB0MZvE+Dtux740g/3vvSd85s/Z0lMURWHKpRgKtbD2EWpWPZ2T8v4gaPP/3PnI12ZJrRuPnvquqvMULe7LrI7+PgCXjwBqUiWcbb4jOVYhD148/6Vy1ssIPrsga3XbO0pAtErmqbKBTFYFJI1zqlGVM/yektroYRQpUWA5BiXOZWFhDLpG3yDuXD16YdaOm7/wb0fvJ0PuqNFzIMjlaCXiNm6bs5z0hG9Dfr4jh9bXn5z79HX7h0+9b8/eTO/ysbCtqZ4JCRzOZzCXQSTy12fzO0vfvR/3xQG8/WB1/ses0IRO1YCHZoeUzUVN0BUVshSOsihORDjoeOhGizV+LDDMeGYve5qgcZXaudcNntCXtVxM0lknv/d3bqy69CZW1rvfvKJFkOjJb9Yh+VCp5TNhIB1ULOQbsaHV0o2u9de5ikDxornX9ct5CLtzdaButjymRvD3C09qx99/r0PxfR/v/CLW5cqzRmeNBjFsmpIX8n8P+mvshHsA0hPAAAAAElFTkSuQmCC\" style=\"image-rendering: pixelated;\">\n",
              "                        </div></div>"
            ]
          },
          "metadata": {}
        }
      ]
    },
    {
      "cell_type": "markdown",
      "metadata": {
        "id": "rg-fsYNOGbdM"
      },
      "source": [
        "We can also try to optimize for a particular label by just passing \"labels\" as the layer name, which will use the last layer in the model.\n",
        "\n",
        "But note that for this version of InceptionV1, the label IDs are different from the usual IDs. See [here](https://github.com/greentfrapp/lucent/blob/master/lucent/modelzoo/misc/old_imagenet_labels.txt) for the InceptionV1 IDs and [here](https://github.com/greentfrapp/lucent/blob/master/lucent/modelzoo/misc/imagenet_labels.txt) for the usual IDs."
      ]
    },
    {
      "cell_type": "code",
      "metadata": {
        "id": "BJT_1ZSjGge-",
        "colab": {
          "base_uri": "https://localhost:8080/"
        },
        "outputId": "b33e8f07-0164-46e5-fe77-1b0a0536e3bc"
      },
      "source": [
        "# We can try to optimize for \"strawberry\" which has label ID 229 for this model\n",
        "_ = render.render_vis(inceptionv1_model, \"labels:229\", show_inline=True)"
      ],
      "execution_count": null,
      "outputs": [
        {
          "output_type": "stream",
          "name": "stderr",
          "text": [
            " 43%|████▎     | 222/512 [00:10<00:13, 22.28it/s]"
          ]
        }
      ]
    },
    {
      "cell_type": "markdown",
      "metadata": {
        "id": "-FPRN0MqPutF"
      },
      "source": [
        "Unfortunately we don't get very good results, because we are optimizing the output of a softmax layer.\n",
        "\n",
        "To maximize a particular softmax output, the model can choose to maximize the corresponding input, minimize all other inputs or some combination in between.  We would get a much better visualization if we can directly maximize the logits instead, which we can for the `torchvision` models!"
      ]
    },
    {
      "cell_type": "markdown",
      "metadata": {
        "id": "LNW9MD_ge3Pg"
      },
      "source": [
        "## Other Models\n",
        "\n",
        "Lucent works with pretrained models from `torchvision.models` out of the box!"
      ]
    },
    {
      "cell_type": "markdown",
      "metadata": {
        "id": "P3TCWC9CSDcZ"
      },
      "source": [
        "### ResNet50"
      ]
    },
    {
      "cell_type": "code",
      "metadata": {
        "id": "Sgemw0iUfJqm"
      },
      "source": [
        "from torchvision.models import resnet50\n",
        "\n",
        "resnet50_model = resnet50(pretrained=True).to(device).eval()"
      ],
      "execution_count": null,
      "outputs": []
    },
    {
      "cell_type": "code",
      "metadata": {
        "id": "5X027dJ8fONt"
      },
      "source": [
        "# Print the first 20 layer names\n",
        "get_model_layers(resnet50_model)[:20]"
      ],
      "execution_count": null,
      "outputs": []
    },
    {
      "cell_type": "code",
      "metadata": {
        "id": "zYmw3PPBfiLs"
      },
      "source": [
        "# render_vis works in the same way! Just substitute the appropriate layer name!\n",
        "_ = render.render_vis(resnet50_model, \"layer4_1_conv1:121\", show_inline=True)"
      ],
      "execution_count": null,
      "outputs": []
    },
    {
      "cell_type": "markdown",
      "metadata": {
        "id": "qlhR9tLNRD-h"
      },
      "source": [
        "In the previous InceptionV1 model, we only had access to the softmax outputs for the predicted labels, so the visualizations weren't great. Here, we have direct access to the logits! You can check to see that the last layer in the model is a linear layer and not a softmax."
      ]
    },
    {
      "cell_type": "code",
      "metadata": {
        "id": "gqbzrYirfuDA"
      },
      "source": [
        "# Try to activate the strawberry label (949 for usual ImageNet mapping)\n",
        "_ = render.render_vis(resnet50_model, \"labels:949\", show_inline=True)"
      ],
      "execution_count": null,
      "outputs": []
    },
    {
      "cell_type": "code",
      "metadata": {
        "id": "kr1NDehwgARj"
      },
      "source": [
        "# Try to activate the strawberry label using CPPN parameterization\n",
        "cppn_param_f = lambda: param.cppn(224)\n",
        "cppn_opt = lambda params: torch.optim.Adam(params, 5e-3)\n",
        "_ = render.render_vis(resnet50_model, \"labels:949\", cppn_param_f, cppn_opt, show_inline=True)"
      ],
      "execution_count": null,
      "outputs": []
    },
    {
      "cell_type": "markdown",
      "metadata": {
        "id": "NCC1ZojWgkKK"
      },
      "source": [
        "### InceptionV1 from `torchvision`\n",
        "\n",
        "We can also try out `torchvision`'s InceptionV1 model, which is known as GoogLeNet."
      ]
    },
    {
      "cell_type": "code",
      "metadata": {
        "id": "szZDWgIogm6Q"
      },
      "source": [
        "from torchvision.models import googlenet\n",
        "\n",
        "googlenet_model = googlenet(pretrained=True).to(device).eval()"
      ],
      "execution_count": null,
      "outputs": []
    },
    {
      "cell_type": "markdown",
      "metadata": {
        "id": "ilkf79gYhULf"
      },
      "source": [
        "Notice that although the architecture is the same, the layer names are different from Tensorflow's InceptionV1."
      ]
    },
    {
      "cell_type": "code",
      "metadata": {
        "id": "J8hz9HqphCTN"
      },
      "source": [
        "# Print the first 20 layer names\n",
        "get_model_layers(googlenet_model)[:20]"
      ],
      "execution_count": null,
      "outputs": []
    },
    {
      "cell_type": "markdown",
      "metadata": {
        "id": "SxewQGrPhbBq"
      },
      "source": [
        "The model weights are different even though the architecture is the same. So we can try to visualize the same layers and channels, but the results will be different."
      ]
    },
    {
      "cell_type": "code",
      "metadata": {
        "id": "DA3NaeGHRcAC"
      },
      "source": [
        "# Try to visualize same channel as above's mixed4a:107\n",
        "_ = render.render_vis(googlenet_model, \"inception4a:107\", show_inline=True)"
      ],
      "execution_count": null,
      "outputs": []
    },
    {
      "cell_type": "markdown",
      "metadata": {
        "id": "aT3uuvb8RjbM"
      },
      "source": [
        "Again, we have direct access to the logits, so we can get better visualizations when optimizing for target labels!"
      ]
    },
    {
      "cell_type": "code",
      "metadata": {
        "id": "WKj80rW5hheM"
      },
      "source": [
        "# Try optimizing for the strawberry label again\n",
        "_ = render.render_vis(googlenet_model, \"labels:949\", show_inline=True, verbose=True)"
      ],
      "execution_count": null,
      "outputs": []
    },
    {
      "cell_type": "code",
      "metadata": {
        "id": "qTtRbnfdRxQd"
      },
      "source": [
        "# Optimizing for strawberries with CPPN\n",
        "_ = render.render_vis(googlenet_model, \"labels:949\", cppn_param_f, cppn_opt, show_inline=True)"
      ],
      "execution_count": null,
      "outputs": []
    },
    {
      "cell_type": "markdown",
      "metadata": {
        "id": "sbf-NJ-lR-kF"
      },
      "source": [
        "### MobileNetV2\n",
        "\n",
        "Let's pick a lightweight one for the last example!"
      ]
    },
    {
      "cell_type": "code",
      "metadata": {
        "id": "KSBLMSQ3ktz1"
      },
      "source": [
        "# lucent.modelzoo also acts as a wrapper around torchvision.models\n",
        "from lucent.modelzoo import mobilenet_v2\n",
        "\n",
        "mobilenet_v2_model = mobilenet_v2(pretrained=True).to(device).eval()"
      ],
      "execution_count": null,
      "outputs": []
    },
    {
      "cell_type": "code",
      "metadata": {
        "id": "4Ubs-Y59SeHy"
      },
      "source": [
        "# Again print out first 20 layers\n",
        "get_model_layers(mobilenet_v2_model)[:20]"
      ],
      "execution_count": null,
      "outputs": []
    },
    {
      "cell_type": "code",
      "metadata": {
        "id": "1hoIIt2ZSOoG"
      },
      "source": [
        "_ = render.render_vis(mobilenet_v2_model, \"features_15:45\", show_inline=True)"
      ],
      "execution_count": null,
      "outputs": []
    },
    {
      "cell_type": "code",
      "metadata": {
        "id": "cBlo82m5k95Z"
      },
      "source": [
        "# More strawberries!\n",
        "_ = render.render_vis(mobilenet_v2_model, \"labels:949\", show_inline=True)"
      ],
      "execution_count": null,
      "outputs": []
    },
    {
      "cell_type": "code",
      "metadata": {
        "id": "dqgwesRPSk3m"
      },
      "source": [
        "# One last strawberry\n",
        "_ = render.render_vis(mobilenet_v2_model, \"labels:949\", cppn_param_f, cppn_opt, show_inline=True)"
      ],
      "execution_count": null,
      "outputs": []
    },
    {
      "cell_type": "markdown",
      "metadata": {
        "id": "qj7TWMgbgbep"
      },
      "source": [
        "## Try it with other models from `torchvision`!"
      ]
    }
  ]
}